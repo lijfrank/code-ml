{
 "cells": [
  {
   "cell_type": "code",
   "execution_count": 7,
   "metadata": {
    "collapsed": true
   },
   "outputs": [],
   "source": [
    "import numpy as np\n",
    "from sklearn.datasets import load_breast_cancer\n",
    "from sklearn.svm import SVC\n",
    "from sklearn.preprocessing import StandardScaler\n",
    "from sklearn.metrics import accuracy_score\n",
    "from sklearn.model_selection import GridSearchCV, train_test_split\n"
   ]
  },
  {
   "cell_type": "code",
   "execution_count": 8,
   "metadata": {
    "pycharm": {
     "name": "#%%\n"
    }
   },
   "outputs": [
    {
     "name": "stdout",
     "output_type": "stream",
     "text": [
      "[[1.151e+01 2.393e+01 7.452e+01 4.035e+02 9.261e-02 1.021e-01 1.112e-01\n",
      "  4.105e-02 1.388e-01 6.570e-02 2.388e-01 2.904e+00 1.936e+00 1.697e+01\n",
      "  8.200e-03 2.982e-02 5.738e-02 1.267e-02 1.488e-02 4.738e-03 1.248e+01\n",
      "  3.716e+01 8.228e+01 4.742e+02 1.298e-01 2.517e-01 3.630e-01 9.653e-02\n",
      "  2.112e-01 8.732e-02]\n",
      " [1.377e+01 1.327e+01 8.806e+01 5.827e+02 9.198e-02 6.221e-02 1.063e-02\n",
      "  1.917e-02 1.592e-01 5.912e-02 2.191e-01 6.946e-01 1.479e+00 1.774e+01\n",
      "  4.348e-03 8.153e-03 4.272e-03 6.829e-03 2.154e-02 1.802e-03 1.467e+01\n",
      "  1.693e+01 9.417e+01 6.611e+02 1.170e-01 1.072e-01 3.732e-02 5.802e-02\n",
      "  2.823e-01 6.794e-02]\n",
      " [1.719e+01 2.207e+01 1.116e+02 9.283e+02 9.726e-02 8.995e-02 9.061e-02\n",
      "  6.527e-02 1.867e-01 5.580e-02 4.203e-01 7.383e-01 2.819e+00 4.542e+01\n",
      "  4.493e-03 1.206e-02 2.048e-02 9.875e-03 1.144e-02 1.575e-03 2.158e+01\n",
      "  2.933e+01 1.405e+02 1.436e+03 1.558e-01 2.567e-01 3.889e-01 1.984e-01\n",
      "  3.216e-01 7.570e-02]\n",
      " [1.385e+01 1.721e+01 8.844e+01 5.887e+02 8.785e-02 6.136e-02 1.420e-02\n",
      "  1.141e-02 1.614e-01 5.890e-02 2.185e-01 8.561e-01 1.495e+00 1.791e+01\n",
      "  4.599e-03 9.169e-03 9.127e-03 4.814e-03 1.247e-02 1.708e-03 1.549e+01\n",
      "  2.358e+01 1.003e+02 7.259e+02 1.157e-01 1.350e-01 8.115e-02 5.104e-02\n",
      "  2.364e-01 7.182e-02]\n",
      " [1.916e+01 2.660e+01 1.262e+02 1.138e+03 1.020e-01 1.453e-01 1.921e-01\n",
      "  9.664e-02 1.902e-01 6.220e-02 6.361e-01 1.001e+00 4.321e+00 6.965e+01\n",
      "  7.392e-03 2.449e-02 3.988e-02 1.293e-02 1.435e-02 3.446e-03 2.372e+01\n",
      "  3.590e+01 1.598e+02 1.724e+03 1.782e-01 3.841e-01 5.754e-01 1.872e-01\n",
      "  3.258e-01 9.720e-02]]\n"
     ]
    }
   ],
   "source": [
    "breast_cancer = load_breast_cancer()\n",
    "X = breast_cancer.data\n",
    "y = breast_cancer.target\n",
    "X_train,X_test,y_train,y_test = train_test_split(X,y,test_size=0.3,random_state=123)\n",
    "print(X_train[:5])"
   ]
  },
  {
   "cell_type": "code",
   "execution_count": 9,
   "metadata": {
    "pycharm": {
     "name": "#%%\n"
    }
   },
   "outputs": [
    {
     "data": {
      "text/plain": [
       "array([[-0.75450089,  1.01659115, -0.73128733, -0.73265543, -0.24462758,\n",
       "        -0.04620382,  0.27611295, -0.20961294, -1.46364798,  0.39314076,\n",
       "        -0.64161783,  3.00442921, -0.50131823, -0.54772208,  0.36045005,\n",
       "         0.20523019,  0.73110404,  0.07325061, -0.71677517,  0.29413566,\n",
       "        -0.78656002,  1.835601  , -0.74803755, -0.71589375, -0.04829589,\n",
       "         0.0133248 ,  0.46494136, -0.27255521, -1.22412178,  0.24637476],\n",
       "       [-0.10731754, -1.37755096, -0.16735748, -0.21230246, -0.29023605,\n",
       "        -0.80668991, -0.98228462, -0.78071535, -0.75870895, -0.49815618,\n",
       "        -0.71488604, -0.98613752, -0.73539923, -0.52994487, -0.88448001,\n",
       "        -0.9952742 , -0.86696519, -0.82788665,  0.09203449, -0.72999235,\n",
       "        -0.3303998 , -1.39987215, -0.39139919, -0.38462167, -0.62429625,\n",
       "        -0.96853594, -1.12729087, -0.87152919, -0.08199343, -0.89975242],\n",
       "       [ 0.8720484 ,  0.59885153,  0.81306413,  0.79123541,  0.09200637,\n",
       "        -0.27783847,  0.01847742,  0.42256715,  0.19157651, -0.94786831,\n",
       "         0.03341672, -0.90720759, -0.0490348 ,  0.10911107, -0.83761737,\n",
       "        -0.77879889, -0.37925136, -0.35795614, -1.13453871, -0.80917391,\n",
       "         1.10890027,  0.58331455,  0.99826063,  0.98885468,  1.12170486,\n",
       "         0.04729922,  0.59156508,  1.31190285,  0.54930958, -0.44082843],\n",
       "       [-0.0844084 , -0.49266166, -0.1515308 , -0.19487993, -0.5892249 ,\n",
       "        -0.82289481, -0.93761444, -0.98326355, -0.68268612, -0.52795638,\n",
       "        -0.71711756, -0.69443998, -0.72720383, -0.52602003, -0.80335917,\n",
       "        -0.93898065, -0.72087372, -1.13875663, -1.00945253, -0.76278119,\n",
       "        -0.15960008, -0.33630831, -0.20753097, -0.26976651, -0.68279629,\n",
       "        -0.77963816, -0.91300833, -0.9800942 , -0.8193168 , -0.67029042],\n",
       "       [ 1.43618609,  1.61624964,  1.4211421 ,  1.40015292,  0.4351558 ,\n",
       "         0.77738603,  1.28838663,  1.24137348,  0.31252193, -0.08095336,\n",
       "         0.83601978, -0.43272499,  0.72030801,  0.66851589,  0.09931208,\n",
       "        -0.09008935,  0.20451273,  0.11336286, -0.7811399 , -0.15653647,\n",
       "         1.55464588,  1.63408364,  1.57716058,  1.49932208,  2.12970551,\n",
       "         0.91296745,  1.50335368,  1.13770112,  0.61677708,  0.83067488]])"
      ]
     },
     "execution_count": 9,
     "metadata": {},
     "output_type": "execute_result"
    }
   ],
   "source": [
    "from sklearn.preprocessing import StandardScaler\n",
    "scaler = StandardScaler()\n",
    "X_train = scaler.fit_transform(X_train)\n",
    "X_test = scaler.fit_transform(X_test)\n",
    "X_train[:5]"
   ]
  },
  {
   "cell_type": "code",
   "execution_count": 11,
   "metadata": {
    "pycharm": {
     "name": "#%%\n"
    }
   },
   "outputs": [
    {
     "name": "stdout",
     "output_type": "stream",
     "text": [
      "0.9824561403508771\n",
      "精度为0.9824561403508771\n"
     ]
    },
    {
     "name": "stderr",
     "output_type": "stream",
     "text": [
      "D:\\APP\\Anaconda3\\py37\\tensorflow-gpu\\lib\\site-packages\\sklearn\\model_selection\\_search.py:842: DeprecationWarning: The default of the `iid` parameter will change from True to False in version 0.22 and will be removed in 0.24. This will change numeric results when test-set sizes are unequal.\n",
      "  DeprecationWarning)\n"
     ]
    }
   ],
   "source": [
    "# rbf核函数，设置数据权重\n",
    "svc = SVC(kernel='rbf', class_weight='balanced')\n",
    "\n",
    "c_range = np.logspace(-5, 15, 11, base=2)\n",
    "gamma_range = np.logspace(-9, 3, 13, base=2)\n",
    "# 网格搜索交叉验证的参数范围，cv=3,3折交叉\n",
    "param_grid = [{'kernel': ['rbf'], 'C': c_range, 'gamma': gamma_range}]\n",
    "grid = GridSearchCV(svc, param_grid, cv=3, n_jobs=-1)\n",
    "\n",
    "# 训练模型\n",
    "grid.fit(X_train, y_train)\n",
    "# 计算测试集精度\n",
    "\n",
    "y_pred = grid.predict(X_test)\n",
    "print(accuracy_score(y_pred,y_test))\n"
   ]
  },
  {
   "cell_type": "code",
   "execution_count": null,
   "metadata": {
    "pycharm": {
     "name": "#%%\n"
    }
   },
   "outputs": [],
   "source": [
    "\n"
   ]
  }
 ],
 "metadata": {
  "kernelspec": {
   "display_name": "Python 3",
   "language": "python",
   "name": "python3"
  },
  "language_info": {
   "codemirror_mode": {
    "name": "ipython",
    "version": 3
   },
   "file_extension": ".py",
   "mimetype": "text/x-python",
   "name": "python",
   "nbconvert_exporter": "python",
   "pygments_lexer": "ipython3",
   "version": "3.7.7"
  }
 },
 "nbformat": 4,
 "nbformat_minor": 1
}
