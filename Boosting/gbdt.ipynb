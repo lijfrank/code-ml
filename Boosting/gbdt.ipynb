{
 "cells": [
  {
   "cell_type": "code",
   "execution_count": 1,
   "metadata": {},
   "outputs": [],
   "source": [
    "# 说实话，用iris不是很好，因为一棵树基本上就很完美的分类了\n",
    "from sklearn.datasets import load_iris\n",
    "from sklearn.model_selection import train_test_split\n",
    "from sklearn.preprocessing import StandardScaler\n",
    "from sklearn.metrics import accuracy_score\n",
    "import numpy as np \n",
    "import pandas as pd "
   ]
  },
  {
   "cell_type": "code",
   "execution_count": 2,
   "metadata": {},
   "outputs": [
    {
     "output_type": "stream",
     "name": "stdout",
     "text": "[[-0.13835603 -0.26550845  0.22229072  0.10894943]\n [ 2.14752625 -0.02631165  1.61160773  1.18499319]\n [-0.25866563 -0.02631165  0.39595535  0.37796037]\n [-0.8602136   1.16967238 -1.39857913 -1.37061074]\n [ 2.26783585 -0.50470526  1.66949594  1.05048772]]\n"
    },
    {
     "output_type": "execute_result",
     "data": {
      "text/plain": "array([1, 2, 1, 0, 2, 1, 0, 0, 0, 1, 2, 0, 0, 0, 1, 0, 1, 2, 0, 1, 2, 0,\n       2, 2, 1, 1, 2, 1, 0, 1, 2, 0, 0, 1, 1, 0, 2, 0, 0, 1, 1, 2, 1, 2,\n       2, 1, 0, 0, 2, 2, 0, 0, 0, 1, 2, 0, 2, 2, 0, 1, 1, 2, 1, 2, 0, 2,\n       1, 2, 1, 1, 1, 0, 1, 1, 0, 1, 2, 2, 0, 1, 2, 2, 0, 2, 0, 1, 2, 2,\n       1, 2, 1, 1, 2, 2, 0, 1, 2, 0, 1, 2])"
     },
     "metadata": {},
     "execution_count": 2
    }
   ],
   "source": [
    "iris = load_iris()\n",
    "X = iris.data\n",
    "y = iris.target\n",
    "Xtrain,Xtest,ytrain,ytest = train_test_split(X,y,test_size=0.33, random_state=42)\n",
    "Xtrain = StandardScaler().fit_transform(Xtrain)\n",
    "Xtest = StandardScaler().fit_transform(Xtest)\n",
    "print(Xtrain[:5])\n",
    "ytrain"
   ]
  },
  {
   "cell_type": "code",
   "execution_count": 3,
   "metadata": {},
   "outputs": [
    {
     "output_type": "execute_result",
     "data": {
      "text/plain": "GradientBoostingClassifier(criterion='friedman_mse', init=None,\n              learning_rate=0.1, loss='deviance', max_depth=7,\n              max_features=None, max_leaf_nodes=None,\n              min_impurity_decrease=0.0, min_impurity_split=None,\n              min_samples_leaf=1, min_samples_split=2,\n              min_weight_fraction_leaf=0.0, n_estimators=100,\n              n_iter_no_change=None, presort='auto', random_state=10,\n              subsample=0.8, tol=0.0001, validation_fraction=0.1,\n              verbose=0, warm_start=False)"
     },
     "metadata": {},
     "execution_count": 3
    }
   ],
   "source": [
    "from sklearn.ensemble import GradientBoostingClassifier\n",
    "gbc = GradientBoostingClassifier(\n",
    "    # boosting参数\n",
    "    init=None,\n",
    "    n_estimators=100,\n",
    "    learning_rate=0.1, \n",
    "    subsample=0.8,\n",
    "    loss='deviance',\n",
    "    # 分割参数\n",
    "    # max_features='sqrt',\n",
    "    criterion='friedman_mse',\n",
    "    # 分割停止参数\n",
    "    min_samples_split =2, \n",
    "    min_impurity_split=None,\n",
    "    min_impurity_decrease=0.0,\n",
    "    max_depth=7,\n",
    "    max_leaf_nodes=None,\n",
    "    # 剪枝参数\n",
    "    min_samples_leaf =1, \n",
    "    warm_start=False,\n",
    "    random_state=10\n",
    ")\n",
    "gbc.fit(Xtrain,ytrain)"
   ]
  },
  {
   "cell_type": "code",
   "execution_count": 4,
   "metadata": {},
   "outputs": [
    {
     "output_type": "execute_result",
     "data": {
      "text/plain": "array([1, 0, 2, 1, 1, 0, 1, 2, 1, 1, 2, 0, 0, 0, 0, 1, 2, 1, 1, 2, 0, 2,\n       0, 2, 2, 2, 2, 2, 0, 0, 0, 0, 1, 0, 0, 2, 1, 0, 0, 0, 2, 1, 1, 0,\n       0, 1, 2, 2, 1, 2])"
     },
     "metadata": {},
     "execution_count": 4
    }
   ],
   "source": [
    "ypred = gbc.predict(Xtest)\n",
    "ypred"
   ]
  },
  {
   "cell_type": "code",
   "execution_count": 5,
   "metadata": {},
   "outputs": [
    {
     "output_type": "stream",
     "name": "stdout",
     "text": "1.0\n"
    }
   ],
   "source": [
    "print(accuracy_score(ytest,ypred)) # 参数影响很大哦"
   ]
  },
  {
   "cell_type": "code",
   "execution_count": 13,
   "metadata": {},
   "outputs": [
    {
     "output_type": "stream",
     "name": "stdout",
     "text": "[ 1  2  3  4  5  6  7  8  9 10 11 12 13 14 15 16 17 18 19]\n0.96\n"
    }
   ],
   "source": [
    "# 网格搜索法\n",
    "from sklearn.model_selection import GridSearchCV\n",
    "gbc = GradientBoostingClassifier(\n",
    "    # boosting参数\n",
    "    init=None,\n",
    "    # n_estimators=100,\n",
    "    learning_rate=0.1, \n",
    "    subsample=0.8,\n",
    "    loss='deviance',\n",
    "    # 分割参数\n",
    "    # max_features='sqrt',\n",
    "    criterion='friedman_mse',\n",
    "    # 分割停止参数\n",
    "    min_samples_split =2, \n",
    "    min_impurity_split=None,\n",
    "    min_impurity_decrease=0.0,\n",
    "    max_depth=7,\n",
    "    max_leaf_nodes=None,\n",
    "    # 剪枝参数\n",
    "    min_samples_leaf =1, \n",
    "    warm_start=False,\n",
    "    random_state=10\n",
    ")\n",
    "n_estimator = np.arange(1,20,1)\n",
    "print(n_estimator)\n",
    "param_grid = {'n_estimators':n_estimator}\n",
    "gsearch1 = GridSearchCV(estimator = gbc,param_grid=param_grid,iid=False,cv=5)\n",
    "gsearch1.fit(Xtrain,ytrain)\n",
    "\n",
    "# 计算测试集精度，利用最优的\n",
    "ypred = gsearch1.predict(Xtest)\n",
    "print(accuracy_score(ypred,ytest))"
   ]
  },
  {
   "cell_type": "code",
   "execution_count": 17,
   "metadata": {},
   "outputs": [
    {
     "output_type": "stream",
     "name": "stdout",
     "text": "0.9394736842105263 {'n_estimators': 1}\n"
    },
    {
     "output_type": "execute_result",
     "data": {
      "text/plain": "    n_estimators  mean_test_score\n0              1         0.939474\n1              2         0.939474\n2              3         0.929950\n3              4         0.929950\n4              5         0.919950\n5              6         0.919950\n6              7         0.919950\n7              8         0.909950\n8              9         0.919950\n9             10         0.919950\n10            11         0.919950\n11            12         0.919950\n12            13         0.919950\n13            14         0.919950\n14            15         0.919950\n15            16         0.919950\n16            17         0.919950\n17            18         0.919950\n18            19         0.919950",
      "text/html": "<div>\n<style scoped>\n    .dataframe tbody tr th:only-of-type {\n        vertical-align: middle;\n    }\n\n    .dataframe tbody tr th {\n        vertical-align: top;\n    }\n\n    .dataframe thead th {\n        text-align: right;\n    }\n</style>\n<table border=\"1\" class=\"dataframe\">\n  <thead>\n    <tr style=\"text-align: right;\">\n      <th></th>\n      <th>n_estimators</th>\n      <th>mean_test_score</th>\n    </tr>\n  </thead>\n  <tbody>\n    <tr>\n      <th>0</th>\n      <td>1</td>\n      <td>0.939474</td>\n    </tr>\n    <tr>\n      <th>1</th>\n      <td>2</td>\n      <td>0.939474</td>\n    </tr>\n    <tr>\n      <th>2</th>\n      <td>3</td>\n      <td>0.929950</td>\n    </tr>\n    <tr>\n      <th>3</th>\n      <td>4</td>\n      <td>0.929950</td>\n    </tr>\n    <tr>\n      <th>4</th>\n      <td>5</td>\n      <td>0.919950</td>\n    </tr>\n    <tr>\n      <th>5</th>\n      <td>6</td>\n      <td>0.919950</td>\n    </tr>\n    <tr>\n      <th>6</th>\n      <td>7</td>\n      <td>0.919950</td>\n    </tr>\n    <tr>\n      <th>7</th>\n      <td>8</td>\n      <td>0.909950</td>\n    </tr>\n    <tr>\n      <th>8</th>\n      <td>9</td>\n      <td>0.919950</td>\n    </tr>\n    <tr>\n      <th>9</th>\n      <td>10</td>\n      <td>0.919950</td>\n    </tr>\n    <tr>\n      <th>10</th>\n      <td>11</td>\n      <td>0.919950</td>\n    </tr>\n    <tr>\n      <th>11</th>\n      <td>12</td>\n      <td>0.919950</td>\n    </tr>\n    <tr>\n      <th>12</th>\n      <td>13</td>\n      <td>0.919950</td>\n    </tr>\n    <tr>\n      <th>13</th>\n      <td>14</td>\n      <td>0.919950</td>\n    </tr>\n    <tr>\n      <th>14</th>\n      <td>15</td>\n      <td>0.919950</td>\n    </tr>\n    <tr>\n      <th>15</th>\n      <td>16</td>\n      <td>0.919950</td>\n    </tr>\n    <tr>\n      <th>16</th>\n      <td>17</td>\n      <td>0.919950</td>\n    </tr>\n    <tr>\n      <th>17</th>\n      <td>18</td>\n      <td>0.919950</td>\n    </tr>\n    <tr>\n      <th>18</th>\n      <td>19</td>\n      <td>0.919950</td>\n    </tr>\n  </tbody>\n</table>\n</div>"
     },
     "metadata": {},
     "execution_count": 17
    }
   ],
   "source": [
    "import pandas as pd\n",
    "\n",
    "print(gsearch1.best_score_,gsearch1.best_params_)\n",
    "params = gsearch1.cv_results_['params']\n",
    "means = gsearch1.cv_results_['mean_test_score']\n",
    "# print(params)\n",
    "list = []\n",
    "for param, mean in zip(params,means):\n",
    "    param[\"mean_test_score\"] = mean\n",
    "    list.append(param)\n",
    "pd.DataFrame(params)"
   ]
  },
  {
   "cell_type": "code",
   "execution_count": null,
   "metadata": {},
   "outputs": [],
   "source": []
  }
 ],
 "metadata": {
  "language_info": {
   "codemirror_mode": {
    "name": "ipython",
    "version": 3
   },
   "file_extension": ".py",
   "mimetype": "text/x-python",
   "name": "python",
   "nbconvert_exporter": "python",
   "pygments_lexer": "ipython3",
   "version": "3.7.7-final"
  },
  "orig_nbformat": 2,
  "kernelspec": {
   "name": "pycharm-88a21ce0",
   "display_name": "PyCharm (code-ml)"
  }
 },
 "nbformat": 4,
 "nbformat_minor": 2
}