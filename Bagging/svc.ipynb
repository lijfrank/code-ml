{
 "cells": [
  {
   "cell_type": "code",
   "execution_count": 18,
   "metadata": {},
   "outputs": [],
   "source": [
    "from sklearn.svm import SVC\n",
    "from sklearn.ensemble import BaggingClassifier\n",
    "from sklearn.datasets import make_classification\n",
    "from sklearn.preprocessing import StandardScaler\n",
    "from sklearn.metrics import accuracy_score\n",
    "from sklearn.model_selection import GridSearchCV, train_test_split"
   ]
  },
  {
   "cell_type": "code",
   "execution_count": 19,
   "metadata": {
    "scrolled": true
   },
   "outputs": [
    {
     "name": "stdout",
     "output_type": "stream",
     "text": [
      "[[ 4.22341441e-01 -2.05321581e+00  9.10178908e-01  3.17218215e-01]\n",
      " [-1.25732069e+00 -3.19826339e+00  7.86327962e-01 -4.66419097e-01]\n",
      " [ 1.23195055e+00 -9.95105317e-01 -9.44446256e-01 -4.10049693e-01]\n",
      " [-4.37843295e-02 -1.27395967e+00 -1.70204139e-02  3.79151736e-01]\n",
      " [-1.30819171e+00 -1.28532883e+00  2.25930895e+00 -4.22571517e-02]\n",
      " [-1.62073375e+00 -2.22244349e+00 -9.55945000e-01 -3.45981776e-01]\n",
      " [-3.59967304e-01 -1.41363563e+00 -4.63595975e-01  4.81481474e-01]\n",
      " [-7.62884416e-01 -1.45125944e+00 -1.54079701e+00  6.32619942e-02]\n",
      " [ 4.86681188e-01 -1.45709006e+00  1.56506538e-01  2.32181036e-01]\n",
      " [-2.68051210e-01 -4.47369310e-01 -5.97316069e-01 -2.37921730e-01]\n",
      " [-3.69743600e+00 -4.61220130e-01 -1.42406091e+00 -4.93319883e-01]\n",
      " [ 1.83324682e-01 -7.66054695e-01 -5.42861476e-01  4.16050046e-01]\n",
      " [ 1.85082392e+00 -7.80910684e-01 -1.15618243e+00  7.81198102e-01]\n",
      " [-8.60699619e-01 -8.69385004e-01  1.49448454e+00 -2.06998503e+00]\n",
      " [-3.45538051e-01 -2.81180710e+00  4.26258731e-01  6.76908035e-01]\n",
      " [-1.05286598e+00 -1.36672011e+00 -6.37437026e-01 -3.97271814e-01]\n",
      " [-7.93470192e-01  9.52529622e-01 -1.32880578e-01 -2.97790879e-01]\n",
      " [-1.40246886e+00 -9.80358459e-01 -3.09012969e-01 -1.67600381e+00]\n",
      " [-4.86612462e-01 -2.47263494e+00  1.15233156e+00  1.07961859e+00]\n",
      " [-1.20114435e+00 -5.97321845e-01 -8.13364259e-01 -1.46642433e+00]\n",
      " [-1.23267396e+00  5.71068197e-01  5.21064876e-01 -5.75787970e-01]\n",
      " [-3.58754622e+00 -1.85016853e+00  1.41953163e-01 -3.19328417e-01]\n",
      " [-1.24378126e+00 -4.37933163e-01  6.91538751e-01  6.94749144e-01]\n",
      " [-2.56042975e+00 -1.10074198e+00 -7.25597378e-01 -1.38336396e+00]\n",
      " [-2.38076394e+00 -1.59027524e-01 -1.58293840e+00  6.10379379e-01]\n",
      " [-2.47553402e-03  4.51394467e-01 -1.18885926e+00 -5.06816354e-01]\n",
      " [-9.07197428e-01 -1.12132974e-01 -5.96314038e-01 -5.25672963e-02]\n",
      " [-8.27182474e-01  1.22006997e+00 -1.93627981e+00  1.88778597e-01]\n",
      " [-9.61541555e-01  1.22964368e+00  5.23891024e-01  8.84220870e-02]\n",
      " [-5.09792713e-01  2.48206729e-01 -3.10886172e-01  9.74001663e-02]\n",
      " [-4.71824167e-01  2.17261785e-01  3.99046346e-01 -2.77259276e+00]\n",
      " [-8.00221059e-01 -6.83049356e-01  1.95591231e+00  3.90093323e-01]\n",
      " [-1.30813451e+00  9.23281451e-01 -6.52408582e-01 -3.90953375e-01]\n",
      " [ 7.33899962e-01 -1.36508549e-01  4.93741777e-01 -1.16103939e-01]\n",
      " [-1.04862023e-01  2.50202269e-01 -2.03068447e+00  2.06449286e+00]\n",
      " [-1.66130052e+00  1.69989125e+00 -1.10540657e-01  1.02017271e+00]\n",
      " [-2.52159550e+00  1.27458364e+00 -6.92049848e-01  1.53637705e+00]\n",
      " [-1.62184212e+00  9.55083877e-01  2.86343689e-01  6.08843834e-01]\n",
      " [-3.54528872e-01 -7.81871442e-02 -1.04525337e+00  1.21114529e+00]\n",
      " [-6.79598011e-01  7.64389529e-01  6.89818165e-01  1.30184623e+00]\n",
      " [ 4.32994532e-01  5.12814562e-01 -6.28087560e-01 -4.81027118e-01]\n",
      " [-1.97242756e+00  5.23902618e-01  2.30391670e+00 -1.06001582e+00]\n",
      " [-1.79506345e+00  3.35973253e+00 -1.35949701e-01  1.13689136e+00]\n",
      " [-2.20119016e+00  1.91002859e+00  9.77249677e-02  5.82953680e-01]\n",
      " [ 3.93906076e-01  6.81520677e-01 -3.99449029e-01  3.70055888e-01]\n",
      " [-1.94643859e-01  1.35081491e+00 -1.30652685e+00  1.65813068e+00]\n",
      " [-8.69536952e-01  1.73590335e+00 -1.18164045e-01 -6.80178204e-01]\n",
      " [-1.10453952e+00  1.70910242e+00  6.66383082e-01 -4.60719787e-01]\n",
      " [-4.03257104e-01  2.02751248e+00 -1.33425847e+00 -1.34671751e+00]\n",
      " [-9.86132567e-01  1.33828180e+00  6.93773153e-01 -1.59573438e-01]\n",
      " [ 1.35329628e+00 -6.35812195e-01 -1.33701560e-01  1.07774381e+00]\n",
      " [ 7.09216593e-01 -1.24743076e+00 -1.12682581e+00 -7.30677753e-01]\n",
      " [-1.82896522e-01 -1.25860859e+00 -3.84879809e-01  9.43515893e-02]\n",
      " [ 1.83240861e+00 -1.04999632e+00 -4.21714513e-02 -2.86887192e-01]\n",
      " [-1.13058206e+00 -7.10233633e-01 -6.16264021e-02 -1.07305276e-01]\n",
      " [-6.05415797e-01 -7.03291920e-01 -7.19604389e-01 -8.12992989e-01]\n",
      " [-2.89788250e-01 -1.20374176e+00  2.74516358e-01 -8.90915083e-01]\n",
      " [ 4.17180364e-01 -1.06938289e+00 -1.15735526e+00 -3.12292251e-01]\n",
      " [ 7.21669496e-01 -8.31839865e-01 -1.57667016e-01  2.25672350e+00]\n",
      " [-7.23168038e-02 -9.20383253e-01 -7.04700276e-01  9.43260725e-01]\n",
      " [ 1.79445113e+00 -9.03343950e-01  7.47188334e-01 -1.18894496e+00]\n",
      " [-2.86920000e-01 -9.86585088e-01  7.73252977e-01 -1.18388064e+00]\n",
      " [ 1.43370121e+00 -1.11573423e+00 -2.65917224e+00  6.06319524e-01]\n",
      " [-4.22761581e-01 -1.12836011e+00 -1.75589058e+00  4.50934462e-01]\n",
      " [ 3.51173413e-01 -8.95526209e-01 -6.84010898e-01  1.65955080e+00]\n",
      " [ 8.65825460e-01 -1.14855777e+00  1.06850940e+00 -4.53385804e-01]\n",
      " [ 1.26661394e+00 -1.11745336e+00 -6.87837611e-01 -1.21407740e+00]\n",
      " [ 6.87661760e-01 -1.12933108e+00 -4.40922632e-01 -2.80355495e-01]\n",
      " [ 9.29950318e-01 -8.94365876e-01 -3.64693544e-01  1.56703855e-01]\n",
      " [ 1.78037474e+00 -9.00142145e-01  5.78521498e-01  3.49654457e-01]\n",
      " [ 1.26780440e+00 -1.27034986e+00 -7.64143924e-01 -1.43779147e+00]\n",
      " [ 3.73436160e-01 -9.89449288e-01  1.36453185e+00 -6.89449185e-01]\n",
      " [-8.64008129e-01 -6.15293010e-01 -6.52293600e-01 -5.21189312e-01]\n",
      " [ 4.24345081e-01 -1.18986266e+00 -1.84306955e+00 -4.77974004e-01]\n",
      " [ 1.97698901e+00 -1.21414740e+00 -4.79655814e-01  6.20358298e-01]\n",
      " [ 3.80251566e-01  2.53026908e+00  6.98457149e-01  3.77088909e-03]\n",
      " [ 5.56269743e-01 -3.23726922e-01  9.31848374e-01  3.39964984e-01]\n",
      " [ 1.12073484e+00  3.13380666e-01 -1.56821116e-02  1.60928168e-01]\n",
      " [ 2.42548085e+00  8.51440362e-01 -1.90653494e-01 -3.94849514e-01]\n",
      " [ 4.58931008e-02 -2.68225264e-01 -2.67733537e-01 -1.12801133e+00]\n",
      " [-1.00171129e-01  2.40620516e+00  2.80441705e-01 -9.93123611e-01]\n",
      " [ 1.87834887e+00  1.79574591e+00  8.41631264e-01 -2.49458580e-01]\n",
      " [-4.43584187e-01  8.56699698e-01  4.94949817e-02  4.93836776e-01]\n",
      " [ 5.44818813e-01 -1.17921312e+00  6.43314465e-01 -1.57062341e+00]\n",
      " [ 2.03196825e+00  2.18718140e+00 -2.06903676e-01  8.80178912e-01]\n",
      " [ 1.77624479e+00  1.98764670e+00 -1.69810582e+00  3.87280475e-01]\n",
      " [ 2.02899023e+00  1.04421447e+00 -2.25556423e+00 -1.02250684e+00]\n",
      " [-2.08311803e-01  8.50411665e-01  3.86305518e-02 -1.65671510e+00]\n",
      " [ 4.55946498e-01 -2.41527100e-01 -9.85510738e-01 -1.47183501e+00]\n",
      " [ 5.59313196e-01  6.73114962e-01  1.64813493e+00  1.64227755e-01]\n",
      " [ 1.10698637e+00 -5.35834091e-01  5.67290278e-01 -2.22675101e-01]\n",
      " [ 1.10502647e+00 -1.53716448e+00 -3.53431749e-01 -1.61647419e+00]\n",
      " [ 2.11564734e+00 -8.11815767e-03 -2.91837363e-01 -7.61492212e-01]\n",
      " [-7.15602562e-02  2.16543447e-01  8.57923924e-01  1.14110187e+00]\n",
      " [-2.05721672e-01  1.86752028e+00  1.46657872e+00  8.52551939e-01]\n",
      " [-3.21105367e-01  2.72990606e-01 -5.98653937e-01 -1.11589699e+00]\n",
      " [ 1.34057624e+00 -1.07894567e-01  7.66663182e-01  3.56292817e-01]\n",
      " [ 1.55525060e+00  1.23567148e+00 -1.76853845e+00  3.55481793e-01]\n",
      " [ 1.47049892e+00  2.34137626e+00  8.14519822e-01  5.89255892e-02]\n",
      " [ 2.63325914e+00  3.86274219e+00 -1.85053671e-01 -8.07648488e-01]]\n",
      "[0 0 0 0 0 0 0 0 0 0 1 0 0 0 0 0 0 0 0 0 0 0 0 0 0 1 1 1 1 1 1 1 1 1 1 1 1\n",
      " 1 1 1 1 1 1 1 1 1 1 1 1 1 0 0 0 0 0 0 0 0 0 0 0 0 0 0 0 0 0 0 0 0 0 0 0 0\n",
      " 0 1 1 1 1 1 1 1 1 1 1 1 1 1 1 1 1 1 1 1 1 1 1 1 1 1]\n"
     ]
    }
   ],
   "source": [
    "X, y = make_classification(n_samples=100, n_features=4,\n",
    "                           n_informative=2, n_redundant=0,\n",
    "                            random_state=0, shuffle=False)\n",
    "print(X)\n",
    "print(y)"
   ]
  },
  {
   "cell_type": "code",
   "execution_count": 20,
   "metadata": {},
   "outputs": [
    {
     "name": "stdout",
     "output_type": "stream",
     "text": [
      "[[-3.58754622 -1.85016853  0.14195316 -0.31932842]\n",
      " [ 1.10698637 -0.53583409  0.56729028 -0.2226751 ]\n",
      " [ 0.73389996 -0.13650855  0.49374178 -0.11610394]\n",
      " [ 1.78037474 -0.90014214  0.5785215   0.34965446]\n",
      " [ 2.03196825  2.1871814  -0.20690368  0.88017891]]\n"
     ]
    }
   ],
   "source": [
    "X_train,X_test,y_train,y_test = train_test_split(X,y,test_size=0.3,random_state=123)\n",
    "print(X_train[:5])\n"
   ]
  },
  {
   "cell_type": "code",
   "execution_count": null,
   "outputs": [],
   "source": [
    "scaler = StandardScaler()\n",
    "X_train = scaler.fit_transform(X_train)\n",
    "X_test = scaler.fit_transform(X_test)\n",
    "X_train[:5]"
   ],
   "metadata": {
    "collapsed": false,
    "pycharm": {
     "name": "#%%\n"
    }
   }
  },
  {
   "cell_type": "code",
   "execution_count": null,
   "outputs": [],
   "source": [
    "clf = BaggingClassifier(base_estimator=SVC(gamma=0.5),\n",
    "                         n_estimators=10, random_state=0).fit(X_train, y_train)\n",
    "clf.score(X_test,y_test)\n"
   ],
   "metadata": {
    "collapsed": false,
    "pycharm": {
     "name": "#%%\n"
    }
   }
  },
  {
   "cell_type": "code",
   "execution_count": null,
   "outputs": [],
   "source": [
    "from sklearn.model_selection import GridSearchCV\n",
    "import numpy as np\n",
    "\n",
    "clf = BaggingClassifier(base_estimator=SVC(kernel='rbf',C=1,gamma=0.5))\n",
    "\n",
    "num = np.arange(5,20,1)\n",
    "param_grid = [{'n_estimators':num}]\n",
    "# 网格搜索交叉验证的参数范围，cv=3,3折交叉\n",
    "grid = GridSearchCV(estimator=clf, param_grid=param_grid, cv=3, n_jobs=-1)\n",
    "# 训练模型\n",
    "grid.fit(X_train, y_train)\n",
    "\n",
    "# 计算测试集精度，利用最优的\n",
    "y_pred = grid.predict(X_test)\n",
    "print(accuracy_score(y_pred,y_test))"
   ],
   "metadata": {
    "collapsed": false,
    "pycharm": {
     "name": "#%%\n"
    }
   }
  },
  {
   "cell_type": "code",
   "execution_count": null,
   "outputs": [],
   "source": [
    "import pandas as pd\n",
    "\n",
    "print(grid.best_score_,grid.best_params_)\n",
    "params = grid.cv_results_['params']\n",
    "scores = grid.cv_results_['mean_test_score']\n",
    "# print(params)\n",
    "#想办法把scores弄进去\n",
    "list = []\n",
    "for param, score in zip(params, scores):\n",
    "    param['score']=score\n",
    "    list.append(param)\n",
    "pd.DataFrame(list)"
   ],
   "metadata": {
    "collapsed": false,
    "pycharm": {
     "name": "#%%\n"
    }
   }
  },
  {
   "cell_type": "code",
   "execution_count": 25,
   "metadata": {},
   "outputs": [
    {
     "data": {
      "text/plain": [
       "array([[-2.79786143, -1.3436652 ,  0.42361507, -0.24162223],\n",
       "       [ 0.88712169, -0.35390428,  0.88164086, -0.13980427],\n",
       "       [ 0.59426673, -0.05319176,  0.8024399 , -0.0275385 ],\n",
       "       [ 1.41569929, -0.62824684,  0.89373524,  0.4631076 ],\n",
       "       [ 1.61318814,  1.69666538,  0.04794734,  1.02198051]])"
      ]
     },
     "execution_count": 25,
     "metadata": {},
     "output_type": "execute_result"
    }
   ],
   "source": [
    "import pandas as pd\n",
    "\n",
    "print(grid.best_score_,grid.best_params_)\n",
    "params = grid.cv_results_['params']\n",
    "scores = grid.cv_results_['mean_test_score']\n",
    "# print(params)\n",
    "#想办法把scores弄进去\n",
    "list = []\n",
    "for param, score in zip(params, scores):\n",
    "    param['score']=score\n",
    "    list.append(param)\n",
    "pd.DataFrame(list)"
   ]
  },
  {
   "cell_type": "code",
   "execution_count": 50,
   "metadata": {},
   "outputs": [
    {
     "data": {
      "text/plain": [
       "0.8"
      ]
     },
     "execution_count": 50,
     "metadata": {},
     "output_type": "execute_result"
    }
   ],
   "source": [
    "clf = BaggingClassifier(base_estimator=SVC(gamma=0.5),\n",
    "                         n_estimators=10, random_state=0).fit(X_train, y_train)\n",
    "clf.score(X_test,y_test)\n"
   ]
  },
  {
   "cell_type": "code",
   "execution_count": 52,
   "metadata": {
    "scrolled": false
   },
   "outputs": [
    {
     "name": "stdout",
     "output_type": "stream",
     "text": [
      "0.8333333333333334\n"
     ]
    },
    {
     "name": "stderr",
     "output_type": "stream",
     "text": [
      "D:\\APP\\Anaconda3\\py37\\tensorflow-gpu\\lib\\site-packages\\sklearn\\model_selection\\_search.py:842: DeprecationWarning: The default of the `iid` parameter will change from True to False in version 0.22 and will be removed in 0.24. This will change numeric results when test-set sizes are unequal.\n",
      "  DeprecationWarning)\n"
     ]
    }
   ],
   "source": [
    "from sklearn.model_selection import GridSearchCV\n",
    "import numpy as np\n",
    "\n",
    "clf = BaggingClassifier(base_estimator=SVC(kernel='rbf',C=1,gamma=0.5))\n",
    "\n",
    "num = np.arange(5,20,1)\n",
    "param_grid = [{'n_estimators':num}]\n",
    "# 网格搜索交叉验证的参数范围，cv=3,3折交叉\n",
    "grid = GridSearchCV(estimator=clf, param_grid=param_grid, cv=3, n_jobs=-1)\n",
    "# 训练模型\n",
    "grid.fit(X_train, y_train)\n",
    "\n",
    "# 计算测试集精度，利用最优的\n",
    "y_pred = grid.predict(X_test)\n",
    "print(accuracy_score(y_pred,y_test))"
   ]
  },
  {
   "cell_type": "code",
   "execution_count": 48,
   "metadata": {},
   "outputs": [
    {
     "name": "stdout",
     "output_type": "stream",
     "text": [
      "0.8714285714285714 {'n_estimators': 18}\n"
     ]
    },
    {
     "data": {
      "text/html": [
       "<div>\n",
       "<style scoped>\n",
       "    .dataframe tbody tr th:only-of-type {\n",
       "        vertical-align: middle;\n",
       "    }\n",
       "\n",
       "    .dataframe tbody tr th {\n",
       "        vertical-align: top;\n",
       "    }\n",
       "\n",
       "    .dataframe thead th {\n",
       "        text-align: right;\n",
       "    }\n",
       "</style>\n",
       "<table border=\"1\" class=\"dataframe\">\n",
       "  <thead>\n",
       "    <tr style=\"text-align: right;\">\n",
       "      <th></th>\n",
       "      <th>n_estimators</th>\n",
       "      <th>score</th>\n",
       "    </tr>\n",
       "  </thead>\n",
       "  <tbody>\n",
       "    <tr>\n",
       "      <th>0</th>\n",
       "      <td>5</td>\n",
       "      <td>0.828571</td>\n",
       "    </tr>\n",
       "    <tr>\n",
       "      <th>1</th>\n",
       "      <td>6</td>\n",
       "      <td>0.857143</td>\n",
       "    </tr>\n",
       "    <tr>\n",
       "      <th>2</th>\n",
       "      <td>7</td>\n",
       "      <td>0.814286</td>\n",
       "    </tr>\n",
       "    <tr>\n",
       "      <th>3</th>\n",
       "      <td>8</td>\n",
       "      <td>0.857143</td>\n",
       "    </tr>\n",
       "    <tr>\n",
       "      <th>4</th>\n",
       "      <td>9</td>\n",
       "      <td>0.814286</td>\n",
       "    </tr>\n",
       "    <tr>\n",
       "      <th>5</th>\n",
       "      <td>10</td>\n",
       "      <td>0.842857</td>\n",
       "    </tr>\n",
       "    <tr>\n",
       "      <th>6</th>\n",
       "      <td>11</td>\n",
       "      <td>0.857143</td>\n",
       "    </tr>\n",
       "    <tr>\n",
       "      <th>7</th>\n",
       "      <td>12</td>\n",
       "      <td>0.828571</td>\n",
       "    </tr>\n",
       "    <tr>\n",
       "      <th>8</th>\n",
       "      <td>13</td>\n",
       "      <td>0.842857</td>\n",
       "    </tr>\n",
       "    <tr>\n",
       "      <th>9</th>\n",
       "      <td>14</td>\n",
       "      <td>0.800000</td>\n",
       "    </tr>\n",
       "    <tr>\n",
       "      <th>10</th>\n",
       "      <td>15</td>\n",
       "      <td>0.814286</td>\n",
       "    </tr>\n",
       "    <tr>\n",
       "      <th>11</th>\n",
       "      <td>16</td>\n",
       "      <td>0.842857</td>\n",
       "    </tr>\n",
       "    <tr>\n",
       "      <th>12</th>\n",
       "      <td>17</td>\n",
       "      <td>0.857143</td>\n",
       "    </tr>\n",
       "    <tr>\n",
       "      <th>13</th>\n",
       "      <td>18</td>\n",
       "      <td>0.871429</td>\n",
       "    </tr>\n",
       "    <tr>\n",
       "      <th>14</th>\n",
       "      <td>19</td>\n",
       "      <td>0.871429</td>\n",
       "    </tr>\n",
       "  </tbody>\n",
       "</table>\n",
       "</div>"
      ],
      "text/plain": [
       "    n_estimators     score\n",
       "0              5  0.828571\n",
       "1              6  0.857143\n",
       "2              7  0.814286\n",
       "3              8  0.857143\n",
       "4              9  0.814286\n",
       "5             10  0.842857\n",
       "6             11  0.857143\n",
       "7             12  0.828571\n",
       "8             13  0.842857\n",
       "9             14  0.800000\n",
       "10            15  0.814286\n",
       "11            16  0.842857\n",
       "12            17  0.857143\n",
       "13            18  0.871429\n",
       "14            19  0.871429"
      ]
     },
     "execution_count": 48,
     "metadata": {},
     "output_type": "execute_result"
    }
   ],
   "source": [
    "import pandas as pd\n",
    "\n",
    "print(grid.best_score_,grid.best_params_)\n",
    "params = grid.cv_results_['params']\n",
    "scores = grid.cv_results_['mean_test_score']\n",
    "# print(params)\n",
    "#想办法把scores弄进去\n",
    "list = []\n",
    "for param, score in zip(params, scores):\n",
    "    param['score']=score\n",
    "    list.append(param)\n",
    "pd.DataFrame(list)"
   ]
  }
 ],
 "metadata": {
  "kernelspec": {
   "display_name": "Python 3",
   "language": "python",
   "name": "python3"
  },
  "language_info": {
   "codemirror_mode": {
    "name": "ipython",
    "version": 3
   },
   "file_extension": ".py",
   "mimetype": "text/x-python",
   "name": "python",
   "nbconvert_exporter": "python",
   "pygments_lexer": "ipython3",
   "version": "3.7.7"
  }
 },
 "nbformat": 4,
 "nbformat_minor": 1
}