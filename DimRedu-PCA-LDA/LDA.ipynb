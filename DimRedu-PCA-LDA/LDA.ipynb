{
 "cells": [
  {
   "cell_type": "markdown",
   "metadata": {},
   "source": [
    "# LDA(Linear discriminant analysis)"
   ]
  },
  {
   "cell_type": "code",
   "execution_count": 1,
   "metadata": {},
   "outputs": [],
   "source": [
    "import numpy as np\n",
    "import pandas as pd\n",
    "import matplotlib.pyplot as plt\n",
    "from sklearn.preprocessing import StandardScaler\n",
    "from sklearn.model_selection import train_test_split\n",
    "from matplotlib.colors import ListedColormap\n",
    "from sklearn.linear_model import LogisticRegression"
   ]
  },
  {
   "cell_type": "code",
   "execution_count": 2,
   "metadata": {},
   "outputs": [
    {
     "name": "stdout",
     "output_type": "stream",
     "text": [
      "   0      1     2     3     4    5     6     7     8     9     10    11    12  \\\n",
      "0   1  14.23  1.71  2.43  15.6  127  2.80  3.06  0.28  2.29  5.64  1.04  3.92   \n",
      "1   1  13.20  1.78  2.14  11.2  100  2.65  2.76  0.26  1.28  4.38  1.05  3.40   \n",
      "2   1  13.16  2.36  2.67  18.6  101  2.80  3.24  0.30  2.81  5.68  1.03  3.17   \n",
      "3   1  14.37  1.95  2.50  16.8  113  3.85  3.49  0.24  2.18  7.80  0.86  3.45   \n",
      "4   1  13.24  2.59  2.87  21.0  118  2.80  2.69  0.39  1.82  4.32  1.04  2.93   \n",
      "\n",
      "     13  \n",
      "0  1065  \n",
      "1  1050  \n",
      "2  1185  \n",
      "3  1480  \n",
      "4   735  \n"
     ]
    }
   ],
   "source": [
    "#%% md\n",
    "\n",
    "# 数据获取\n",
    "\n",
    "#%%\n",
    "\n",
    "# 读取数据（）\n",
    "df_wine = pd.read_csv('wine.data',header=None)\n",
    "print(df_wine.head())"
   ]
  },
  {
   "cell_type": "code",
   "execution_count": 3,
   "metadata": {},
   "outputs": [],
   "source": [
    "#%%\n",
    "\n",
    "# 设置列索引\n",
    "df_wine.columns =  ['Class label', 'Alcohol', 'Malic acid', 'Ash',\n",
    "                   'Alcalinity of ash', 'Magnesium', 'Total phenols',\n",
    "                   'Flavanoids', 'Nonflavanoid phenols', 'Proanthocyanins',\n",
    "                   'Color intensity', 'Hue',\n",
    "                   'OD280/OD315 of diluted wines', 'Proline']\n"
   ]
  },
  {
   "cell_type": "markdown",
   "metadata": {},
   "source": [
    "# 数据集划分"
   ]
  },
  {
   "cell_type": "code",
   "execution_count": 4,
   "metadata": {},
   "outputs": [],
   "source": [
    "# 数据集设置：X为样本特征数据，y为目标数据，即标注结果\n",
    "X, y = df_wine.iloc[:, 1:].values, df_wine.iloc[:, 0].values"
   ]
  },
  {
   "cell_type": "code",
   "execution_count": 5,
   "metadata": {},
   "outputs": [],
   "source": [
    "# 数据集划分： 将数据集划分为训练集和测试集数据（测试集数据为30%，训练集为70%）\n",
    "X_train, X_test, y_train, y_test = train_test_split(X, y, test_size=0.3,\n",
    "                                                    stratify=y,\n",
    "                                                    random_state=0)"
   ]
  },
  {
   "cell_type": "markdown",
   "metadata": {},
   "source": [
    "# 数据标准化"
   ]
  },
  {
   "cell_type": "code",
   "execution_count": 6,
   "metadata": {},
   "outputs": [],
   "source": [
    "# 实例化 准备标准化\n",
    "sc = StandardScaler()"
   ]
  },
  {
   "cell_type": "code",
   "execution_count": 11,
   "metadata": {},
   "outputs": [
    {
     "name": "stdout",
     "output_type": "stream",
     "text": [
      "[[ 0.7123  2.2205 -0.1303 ... -0.2002 -0.8216 -0.6295]\n",
      " [ 0.8823 -0.7046  1.1753 ...  1.3398  0.5493  1.4757]\n",
      " [ 0.8459 -0.7302  1.1753 ...  1.0681  0.1308  1.6293]\n",
      " ...\n",
      " [ 1.028   2.2975 -0.5779 ... -1.6949 -1.8607 -1.0443]\n",
      " [-1.3038 -1.0809 -0.3168 ...  0.1622  0.7369  0.4031]\n",
      " [-0.4051  1.2968  0.0563 ...  1.0681  0.7369 -0.8968]]\n"
     ]
    }
   ],
   "source": [
    "# 对数据集进行标准化（一般情况下我们在训练集中进行均值和方差的计算，直接在测试集中使用）\n",
    "X_train_std = sc.fit_transform(X_train)\n",
    "print(X_train_std)\n",
    "X_test_std = sc.transform(X_test)"
   ]
  },
  {
   "cell_type": "markdown",
   "metadata": {},
   "source": [
    "## LDA实现"
   ]
  },
  {
   "cell_type": "code",
   "execution_count": 8,
   "metadata": {
    "pycharm": {
     "name": "#%%\n"
    }
   },
   "outputs": [],
   "source": [
    "# 精度设置,浮点数\n",
    "np.set_printoptions(precision=4)"
   ]
  },
  {
   "cell_type": "markdown",
   "metadata": {},
   "source": [
    "### 平均向量"
   ]
  },
  {
   "cell_type": "code",
   "execution_count": 13,
   "metadata": {
    "pycharm": {
     "name": "#%%\n"
    }
   },
   "outputs": [
    {
     "name": "stdout",
     "output_type": "stream",
     "text": [
      "(124, 13)\n",
      "MV 1: [ 0.9066 -0.3497  0.3201 -0.7189  0.5056  0.8807  0.9589 -0.5516  0.5416\n",
      "  0.2338  0.5897  0.6563  1.2075]\n",
      "\n",
      "(13,)\n",
      "MV 2: [-0.8749 -0.2848 -0.3735  0.3157 -0.3848 -0.0433  0.0635 -0.0946  0.0703\n",
      " -0.8286  0.3144  0.3608 -0.7253]\n",
      "\n",
      "(13,)\n",
      "MV 3: [ 0.1992  0.866   0.1682  0.4148 -0.0451 -1.0286 -1.2876  0.8287 -0.7795\n",
      "  0.9649 -1.209  -1.3622 -0.4013]\n",
      "\n",
      "(13,)\n"
     ]
    }
   ],
   "source": [
    "# 计算每一类数据的平均向量，这个是用来求协方差的，即用来计算类内散度矩阵，同时类间散度矩阵的计算也需要\n",
    "mean_vecs = []\n",
    "print(X_train_std.shape)\n",
    "for label in range(1, 4):\n",
    "    mean_vecs.append(np.mean(X_train_std[y_train == label], axis=0))   #(124, 13)--->(1,13)  又因为是一列，则自动转化为一维数组向量--->(13,)\n",
    "    print('MV %s: %s\\n' % (label, mean_vecs[label-1]))\n",
    "    print(mean_vecs[label-1].shape)"
   ]
  },
  {
   "attachments": {
    "ScreenShotCut.jpg": {
     "image/jpeg": "[encoded data removed]"
    }
   },
   "cell_type": "markdown",
   "metadata": {},
   "source": [
    "### 类内散度矩阵$S_W$\n",
    "![ScreenShotCut.jpg](attachment:ScreenShotCut.jpg)"
   ]
  },
  {
   "cell_type": "code",
   "execution_count": 15,
   "metadata": {
    "pycharm": {
     "name": "#%%\n"
    }
   },
   "outputs": [
    {
     "name": "stdout",
     "output_type": "stream",
     "text": [
      "[[ 5.0722e+01  3.1007e+00 -7.9323e+00 -5.7848e+00 -2.8879e+00  7.8990e+00\n",
      "   2.4543e+00  9.3932e-01  9.0781e-01  1.5486e+01  7.0293e+00 -1.8659e+00\n",
      "   4.9370e+00]\n",
      " [ 3.1007e+00  9.0179e+01  4.7074e+00  1.4750e+01 -1.0900e+01 -8.8059e-02\n",
      "   9.7797e-01  8.4547e+00  4.4732e+00 -1.4494e+01 -2.0361e+01  3.5876e+00\n",
      "  -1.1176e+01]\n",
      " [-7.9323e+00  4.7074e+00  1.1189e+02  7.0126e+01  2.2213e+01  1.5505e+01\n",
      "   1.4856e+01  2.0454e+01 -2.3344e+00  1.3787e+00  5.6585e+00  8.1917e+00\n",
      "   3.2570e-01]\n",
      " [-5.7848e+00  1.4750e+01  7.0126e+01  9.2147e+01  1.2485e+01  6.2091e+00\n",
      "   6.2783e+00  1.2735e+01 -4.7597e+00 -4.1511e+00  1.1779e+00  1.1633e+01\n",
      "  -4.5296e+00]\n",
      " [-2.8879e+00 -1.0900e+01  2.2213e+01  1.2485e+01  1.0605e+02  1.0950e+01\n",
      "   5.2875e+00 -2.1136e+01  1.3076e+01  5.9930e+00  8.4568e+00 -5.3128e-01\n",
      "   1.1845e+01]\n",
      " [ 7.8990e+00 -8.8059e-02  1.5505e+01  6.2091e+00  1.0950e+01  5.7194e+01\n",
      "   2.8971e+01 -7.4850e+00  3.0810e+01  1.5516e+01  6.6816e-01  1.9382e+01\n",
      "   6.3808e+00]\n",
      " [ 2.4543e+00  9.7797e-01  1.4856e+01  6.2783e+00  5.2875e+00  2.8971e+01\n",
      "   3.1388e+01 -1.0236e+01  2.5069e+01  1.4922e+01 -1.2394e+00  1.2737e+01\n",
      "   2.7636e+00]\n",
      " [ 9.3932e-01  8.4547e+00  2.0454e+01  1.2735e+01 -2.1136e+01 -7.4850e+00\n",
      "  -1.0236e+01  8.8416e+01 -1.5290e+01 -6.5190e-01  2.8315e+00 -1.7076e+01\n",
      "  -7.0906e+00]\n",
      " [ 9.0781e-01  4.4732e+00 -2.3344e+00 -4.7597e+00  1.3076e+01  3.0810e+01\n",
      "   2.5069e+01 -1.5290e+01  9.1676e+01  2.2137e+01 -5.9150e+00  1.1376e+01\n",
      "   5.9764e+00]\n",
      " [ 1.5486e+01 -1.4494e+01  1.3787e+00 -4.1511e+00  5.9930e+00  1.5516e+01\n",
      "   1.4922e+01 -6.5190e-01  2.2137e+01  5.6702e+01 -1.0507e+01 -5.3682e+00\n",
      "   1.0706e+01]\n",
      " [ 7.0293e+00 -2.0361e+01  5.6585e+00  1.1779e+00  8.4568e+00  6.6816e-01\n",
      "  -1.2394e+00  2.8315e+00 -5.9150e+00 -1.0507e+01  5.6566e+01  3.2692e+00\n",
      "   9.6829e+00]\n",
      " [-1.8659e+00  3.5876e+00  8.1917e+00  1.1633e+01 -5.3128e-01  1.9382e+01\n",
      "   1.2737e+01 -1.7076e+01  1.1376e+01 -5.3682e+00  3.2692e+00  3.8599e+01\n",
      "  -4.6404e+00]\n",
      " [ 4.9370e+00 -1.1176e+01  3.2570e-01 -4.5296e+00  1.1845e+01  6.3808e+00\n",
      "   2.7636e+00 -7.0906e+00  5.9764e+00  1.0706e+01  9.6829e+00 -4.6404e+00\n",
      "   3.2604e+01]]\n"
     ]
    }
   ],
   "source": [
    "# 特征维度\n",
    "d = 13\n",
    "S_W = np.zeros((d, d))\n",
    "# 获取每个类别的平均值向量\n",
    "for label, mv in zip(range(1, 4), mean_vecs):\n",
    "    # 每一类别的散度矩阵\n",
    "    class_scatter = np.zeros((d, d))\n",
    "    for row in X_train_std[y_train == label]:\n",
    "        # 列向量\n",
    "        row, mv = row.reshape(d, 1), mv.reshape(d, 1)\n",
    "        class_scatter += (row - mv).dot((row - mv).T)\n",
    "    # 每个类别散度矩阵之和\n",
    "    S_W += class_scatter\n",
    "print(S_W)"
   ]
  },
  {
   "attachments": {
    "image.png": {
     "image/png": "[encoded data removed]"
    }
   },
   "cell_type": "markdown",
   "metadata": {},
   "source": [
    "### 类间散度矩阵$S_B$\n",
    "![image.png](attachment:image.png)"
   ]
  },
  {
   "cell_type": "code",
   "execution_count": 17,
   "metadata": {
    "pycharm": {
     "name": "#%%\n"
    }
   },
   "outputs": [
    {
     "name": "stdout",
     "output_type": "stream",
     "text": [
      "[ 6.8901e-15  1.6832e-16  3.7997e-15  2.8561e-16 -3.1785e-16  1.6626e-15\n",
      "  1.5982e-16 -1.1989e-15  1.8883e-15 -1.6152e-15 -5.7839e-16  8.6311e-16\n",
      " -1.3341e-16]\n"
     ]
    }
   ],
   "source": [
    "# 这里和类间散度矩阵的定义不一样哈 ，不知道怎么回事\n",
    "# 全局平均值\n",
    "mean_overall = np.mean(X_train_std, axis=0)\n",
    "print(mean_overall)\n",
    "# 特征维度\n",
    "d = 13\n",
    "S_B = np.zeros((d, d))\n",
    "# 获取每个类别的平均值 ，mean_vecs每一类数据的平均向量，前面求过了\n",
    "for i, mean_vec in enumerate(mean_vecs):\n",
    "    n = X_train[y_train == i + 1, :].shape[0]\n",
    "    # 列向量\n",
    "    mean_vec = mean_vec.reshape(d, 1)\n",
    "    mean_overall = mean_overall.reshape(d, 1)\n",
    "    # 类间散度矩阵\n",
    "    S_B += n * (mean_vec - mean_overall).dot((mean_vec - mean_overall).T)"
   ]
  },
  {
   "cell_type": "markdown",
   "metadata": {},
   "source": [
    "### 特征值计算"
   ]
  },
  {
   "cell_type": "markdown",
   "metadata": {},
   "source": [
    "求解矩阵 $S_W^{-1}S_B$的特征值和特征向量"
   ]
  },
  {
   "cell_type": "code",
   "execution_count": 18,
   "metadata": {
    "pycharm": {
     "name": "#%%\n"
    }
   },
   "outputs": [],
   "source": [
    "# 计算LDA的特征值\n",
    "eigen_vals, eigen_vecs = np.linalg.eig(np.linalg.inv(S_W).dot(S_B))"
   ]
  },
  {
   "cell_type": "code",
   "execution_count": 27,
   "metadata": {
    "pycharm": {
     "name": "#%%\n"
    }
   },
   "outputs": [
    {
     "data": {
      "text/plain": [
       "((13,), (13, 13))"
      ]
     },
     "execution_count": 27,
     "metadata": {},
     "output_type": "execute_result"
    }
   ],
   "source": [
    "eigen_vals.shape,eigen_vecs.shape"
   ]
  },
  {
   "cell_type": "markdown",
   "metadata": {},
   "source": [
    "### 特征值分布"
   ]
  },
  {
   "cell_type": "code",
   "execution_count": 28,
   "metadata": {
    "pycharm": {
     "name": "#%%\n"
    }
   },
   "outputs": [
    {
     "name": "stdout",
     "output_type": "stream",
     "text": [
      "8.262493673957486\n",
      "4.225659486916688\n",
      "1.0528816291206889e-15\n",
      "8.881784197001252e-16\n",
      "4.899094033918741e-16\n",
      "4.899094033918741e-16\n",
      "4.459087001584629e-16\n",
      "3.7475856725614787e-16\n",
      "3.7408464699083565e-16\n",
      "3.7408464699083565e-16\n",
      "2.819199765804213e-16\n",
      "8.058442121308179e-17\n",
      "4.534449124261265e-17\n"
     ]
    }
   ],
   "source": [
    "# 创建由特征值和特征向量组成的list\n",
    "eigen_pairs = [(np.abs(eigen_vals[i]), eigen_vecs[:, i])\n",
    "               for i in range(len(eigen_vals))]\n",
    "\n",
    "# 根据特征值从大到小排序(eigenvalue, eigenvector)\n",
    "eigen_pairs = sorted(eigen_pairs, key=lambda k: k[0], reverse=True)\n",
    "\n",
    "# 特征值结果\n",
    "for eigen_val in eigen_pairs:\n",
    "    print(eigen_val[0])"
   ]
  },
  {
   "cell_type": "code",
   "execution_count": 34,
   "metadata": {
    "pycharm": {
     "name": "#%%\n"
    }
   },
   "outputs": [
    {
     "name": "stdout",
     "output_type": "stream",
     "text": [
      "[-8.8818e-16  4.2257e+00  8.2625e+00 -1.0529e-15  3.0433e-16  3.0433e-16\n",
      "  4.4591e-16  3.7476e-16 -3.2041e-16 -3.2041e-16 -2.8192e-16  4.5344e-17\n",
      " -8.0584e-17]\n",
      "[-8.8818e-16+0.0000e+00j  4.2257e+00+0.0000e+00j  8.2625e+00+0.0000e+00j\n",
      " -1.0529e-15+0.0000e+00j  3.0433e-16+3.8392e-16j  3.0433e-16-3.8392e-16j\n",
      "  4.4591e-16+0.0000e+00j  3.7476e-16+0.0000e+00j -3.2041e-16+1.9306e-16j\n",
      " -3.2041e-16-1.9306e-16j -2.8192e-16+0.0000e+00j  4.5344e-17+0.0000e+00j\n",
      " -8.0584e-17+0.0000e+00j]\n"
     ]
    },
    {
     "data": {
      "image/png": "[encoded data removed]",
      "text/plain": [
       "<Figure size 432x288 with 1 Axes>"
      ]
     },
     "metadata": {
      "needs_background": "light"
     },
     "output_type": "display_data"
    }
   ],
   "source": [
    "# 实部求和\n",
    "tot = sum(eigen_vals.real)\n",
    "\n",
    "print(eigen_vals.real)\n",
    "print(eigen_vals)\n",
    "# eigen_vals.real取数的实部，舍去虚部\n",
    "# 计算比例\n",
    "discr = [(i / tot) for i in sorted(eigen_vals.real, reverse=True)]\n",
    "\n",
    "# 累计求和\n",
    "cum_discr = np.cumsum(discr)\n",
    "\n",
    "# 支持中文\n",
    "plt.rcParams['font.sans-serif'] = ['SimHei']  # 用来正常显示中文标签\n",
    "plt.rcParams['axes.unicode_minus'] = False  # 用来正常显示负号\n",
    "\n",
    "plt.bar(range(1, 14), discr, alpha=0.5, align='center',\n",
    "        label='\"区分度\"分布')\n",
    "plt.step(range(1, 14), cum_discr, where='mid',\n",
    "         label='累计\"区分度\"')\n",
    "plt.ylabel('\"区分度\" 比例')\n",
    "plt.xlabel('特征维度')\n",
    "plt.ylim([-0.1, 1.1])\n",
    "plt.legend(loc='best')\n",
    "plt.show()"
   ]
  },
  {
   "cell_type": "markdown",
   "metadata": {},
   "source": [
    "### 特征降维"
   ]
  },
  {
   "cell_type": "code",
   "execution_count": 35,
   "metadata": {
    "pycharm": {
     "name": "#%%\n"
    }
   },
   "outputs": [],
   "source": [
    "# 保留两维特征\n",
    "w = np.hstack((eigen_pairs[0][1][:, np.newaxis].real,\n",
    "              eigen_pairs[1][1][:, np.newaxis].real))"
   ]
  },
  {
   "cell_type": "code",
   "execution_count": 31,
   "metadata": {
    "pycharm": {
     "name": "#%%\n"
    }
   },
   "outputs": [
    {
     "data": {
      "text/plain": [
       "array([[-0.1586, -0.4077],\n",
       "       [ 0.0984, -0.1821],\n",
       "       [-0.0156, -0.3473],\n",
       "       [ 0.1588,  0.3095],\n",
       "       [-0.0207, -0.064 ],\n",
       "       [ 0.1884,  0.0733],\n",
       "       [-0.7153,  0.3034],\n",
       "       [-0.0798, -0.0009],\n",
       "       [ 0.0074,  0.0716],\n",
       "       [ 0.3448, -0.2808],\n",
       "       [-0.0254,  0.244 ],\n",
       "       [-0.3192, -0.0459],\n",
       "       [-0.4054, -0.5806]])"
      ]
     },
     "execution_count": 31,
     "metadata": {},
     "output_type": "execute_result"
    }
   ],
   "source": [
    "w"
   ]
  },
  {
   "cell_type": "code",
   "execution_count": 36,
   "metadata": {
    "pycharm": {
     "name": "#%%\n"
    }
   },
   "outputs": [],
   "source": [
    "# 特征降维\n",
    "X_train_lda = X_train_std.dot(w)"
   ]
  },
  {
   "cell_type": "code",
   "execution_count": 37,
   "metadata": {
    "pycharm": {
     "name": "#%%\n"
    }
   },
   "outputs": [
    {
     "data": {
      "text/plain": [
       "array([ 0.8944, -0.3881,  1.1007, -0.812 ,  1.132 ,  1.0981,  0.712 ,\n",
       "        0.181 ,  0.0663,  0.5129,  0.7963,  0.4483,  1.9059])"
      ]
     },
     "execution_count": 37,
     "metadata": {},
     "output_type": "execute_result"
    }
   ],
   "source": [
    "# 降维前\n",
    "X_test_std[0]"
   ]
  },
  {
   "cell_type": "code",
   "execution_count": 38,
   "metadata": {
    "pycharm": {
     "name": "#%%\n"
    }
   },
   "outputs": [
    {
     "data": {
      "text/plain": [
       "array([ 1.2617, -0.6537])"
      ]
     },
     "execution_count": 38,
     "metadata": {},
     "output_type": "execute_result"
    }
   ],
   "source": [
    "# 降维后\n",
    "X_train_lda[0]"
   ]
  },
  {
   "cell_type": "code",
   "execution_count": 39,
   "metadata": {
    "pycharm": {
     "name": "#%%\n"
    }
   },
   "outputs": [
    {
     "data": {
      "image/png": "[encoded data removed]",
      "text/plain": [
       "<Figure size 432x288 with 1 Axes>"
      ]
     },
     "metadata": {
      "needs_background": "light"
     },
     "output_type": "display_data"
    }
   ],
   "source": [
    "# 结果绘制\n",
    "colors = ['r', 'b', 'g']\n",
    "markers = ['s', 'x', 'o']\n",
    "\n",
    "for l, c, m in zip(np.unique(y_train), colors, markers):\n",
    "    plt.scatter(X_train_lda[y_train == l, 0],\n",
    "                X_train_lda[y_train == l, 1] * (-1),\n",
    "                c=c, label=l, marker=m)\n",
    "\n",
    "plt.xlabel('LD 1')\n",
    "plt.ylabel('LD 2')\n",
    "plt.legend(loc='lower right')\n",
    "plt.show()"
   ]
  },
  {
   "cell_type": "markdown",
   "metadata": {},
   "source": [
    "## 使用sklearn实现LDA并进行LR分类"
   ]
  },
  {
   "cell_type": "code",
   "execution_count": 41,
   "metadata": {
    "pycharm": {
     "name": "#%%\n"
    }
   },
   "outputs": [],
   "source": [
    "from sklearn.discriminant_analysis import LinearDiscriminantAnalysis as LDA\n",
    "# 实例化\n",
    "lda = LDA(n_components=2)"
   ]
  },
  {
   "cell_type": "code",
   "execution_count": 42,
   "metadata": {
    "pycharm": {
     "name": "#%%\n"
    }
   },
   "outputs": [],
   "source": [
    "# 对训练数据进行LDA处理\n",
    "X_train_lda = lda.fit_transform(X_train_std, y_train)"
   ]
  },
  {
   "cell_type": "code",
   "execution_count": 43,
   "metadata": {
    "pycharm": {
     "name": "#%%\n"
    }
   },
   "outputs": [
    {
     "data": {
      "text/plain": [
       "array([2.9646, 1.157 ])"
      ]
     },
     "execution_count": 43,
     "metadata": {},
     "output_type": "execute_result"
    }
   ],
   "source": [
    "X_train_lda[0]"
   ]
  },
  {
   "cell_type": "code",
   "execution_count": 44,
   "metadata": {
    "pycharm": {
     "name": "#%%\n"
    }
   },
   "outputs": [
    {
     "name": "stderr",
     "output_type": "stream",
     "text": [
      "D:\\APP\\Anaconda3\\py37\\tensorflow-gpu\\lib\\site-packages\\sklearn\\linear_model\\logistic.py:433: FutureWarning: Default solver will be changed to 'lbfgs' in 0.22. Specify a solver to silence this warning.\n",
      "  FutureWarning)\n",
      "D:\\APP\\Anaconda3\\py37\\tensorflow-gpu\\lib\\site-packages\\sklearn\\linear_model\\logistic.py:460: FutureWarning: Default multi_class will be changed to 'auto' in 0.22. Specify the multi_class option to silence this warning.\n",
      "  \"this warning.\", FutureWarning)\n"
     ]
    }
   ],
   "source": [
    "# 实例化逻辑回归\n",
    "lr = LogisticRegression()\n",
    "# 训练\n",
    "lr = lr.fit(X_train_lda, y_train)"
   ]
  },
  {
   "cell_type": "code",
   "execution_count": 46,
   "metadata": {},
   "outputs": [],
   "source": [
    "# 绘制样本及其目标值\n",
    "def plot_decision_regions(X, y, classifier, resolution=0.02):\n",
    "    \"\"\"\n",
    "    X:样本特征值\n",
    "    y:目标值\n",
    "    classifier: 分类器\n",
    "    \"\"\"\n",
    "    # 设置图像的标记及颜色\n",
    "    markers = ('s', 'x', 'o', '^', 'v')\n",
    "    colors = ('red', 'blue', 'lightgreen', 'gray', 'cyan')\n",
    "    cmap = ListedColormap(colors[:len(np.unique(y))])\n",
    "\n",
    "    # 利用样本点创建meshgrid\n",
    "    x1_min, x1_max = X[:, 0].min() - 1, X[:, 0].max() + 1\n",
    "    x2_min, x2_max = X[:, 1].min() - 1, X[:, 1].max() + 1\n",
    "    xx1, xx2 = np.meshgrid(np.arange(x1_min, x1_max, resolution),\n",
    "                           np.arange(x2_min, x2_max, resolution))\n",
    "    # 预测结果\n",
    "    Z = classifier.predict(np.array([xx1.ravel(), xx2.ravel()]).T)\n",
    "    Z = Z.reshape(xx1.shape)\n",
    "    # 绘制预测结果的等高线\n",
    "    plt.contourf(xx1, xx2, Z, alpha=0.4, cmap=cmap)\n",
    "    plt.xlim(xx1.min(), xx1.max())\n",
    "    plt.ylim(xx2.min(), xx2.max())\n",
    "\n",
    "    # 绘制样本点,并根据真实值进行着色\n",
    "    for idx, cl in enumerate(np.unique(y)):\n",
    "        # 绘制散点图\n",
    "        plt.scatter(x=X[y == cl, 0], \n",
    "                    y=X[y == cl, 1],\n",
    "                    alpha=0.6, \n",
    "                    c=cmap(idx),\n",
    "                    edgecolor='black',\n",
    "                    marker=markers[idx], \n",
    "                    label=cl)"
   ]
  },
  {
   "cell_type": "code",
   "execution_count": 47,
   "metadata": {
    "pycharm": {
     "name": "#%%\n"
    }
   },
   "outputs": [
    {
     "name": "stderr",
     "output_type": "stream",
     "text": [
      "'c' argument looks like a single numeric RGB or RGBA sequence, which should be avoided as value-mapping will have precedence in case its length matches with 'x' & 'y'.  Please use a 2-D array with a single row if you really want to specify the same RGB or RGBA value for all points.\n",
      "'c' argument looks like a single numeric RGB or RGBA sequence, which should be avoided as value-mapping will have precedence in case its length matches with 'x' & 'y'.  Please use a 2-D array with a single row if you really want to specify the same RGB or RGBA value for all points.\n",
      "'c' argument looks like a single numeric RGB or RGBA sequence, which should be avoided as value-mapping will have precedence in case its length matches with 'x' & 'y'.  Please use a 2-D array with a single row if you really want to specify the same RGB or RGBA value for all points.\n"
     ]
    },
    {
     "data": {
      "image/png": "[encoded data removed]",
      "text/plain": [
       "<Figure size 432x288 with 1 Axes>"
      ]
     },
     "metadata": {
      "needs_background": "light"
     },
     "output_type": "display_data"
    }
   ],
   "source": [
    "# 训练数据结果\n",
    "plot_decision_regions(X_train_lda, y_train, classifier=lr)\n",
    "plt.xlabel('LD 1')\n",
    "plt.ylabel('LD 2')\n",
    "plt.legend(loc='lower left')\n",
    "plt.tight_layout()\n",
    "plt.show()"
   ]
  },
  {
   "cell_type": "code",
   "execution_count": 48,
   "metadata": {
    "pycharm": {
     "name": "#%%\n"
    }
   },
   "outputs": [
    {
     "name": "stderr",
     "output_type": "stream",
     "text": [
      "'c' argument looks like a single numeric RGB or RGBA sequence, which should be avoided as value-mapping will have precedence in case its length matches with 'x' & 'y'.  Please use a 2-D array with a single row if you really want to specify the same RGB or RGBA value for all points.\n",
      "'c' argument looks like a single numeric RGB or RGBA sequence, which should be avoided as value-mapping will have precedence in case its length matches with 'x' & 'y'.  Please use a 2-D array with a single row if you really want to specify the same RGB or RGBA value for all points.\n",
      "'c' argument looks like a single numeric RGB or RGBA sequence, which should be avoided as value-mapping will have precedence in case its length matches with 'x' & 'y'.  Please use a 2-D array with a single row if you really want to specify the same RGB or RGBA value for all points.\n"
     ]
    },
    {
     "data": {
      "image/png": "[encoded data removed]",
      "text/plain": [
       "<Figure size 432x288 with 1 Axes>"
      ]
     },
     "metadata": {
      "needs_background": "light"
     },
     "output_type": "display_data"
    }
   ],
   "source": [
    "# 测试数据结果\n",
    "X_test_lda = lda.transform(X_test_std)\n",
    "\n",
    "plot_decision_regions(X_test_lda, y_test, classifier=lr)\n",
    "plt.xlabel('LD 1')\n",
    "plt.ylabel('LD 2')\n",
    "plt.legend(loc='lower left')\n",
    "plt.tight_layout()\n",
    "plt.show()"
   ]
  }
 ],
 "metadata": {
  "kernelspec": {
   "display_name": "PyCharm (code-ml)",
   "language": "python",
   "name": "pycharm-88a21ce0"
  },
  "language_info": {
   "codemirror_mode": {
    "name": "ipython",
    "version": 3
   },
   "file_extension": ".py",
   "mimetype": "text/x-python",
   "name": "python",
   "nbconvert_exporter": "python",
   "pygments_lexer": "ipython3",
   "version": "3.7.7"
  }
 },
 "nbformat": 4,
 "nbformat_minor": 4
}
