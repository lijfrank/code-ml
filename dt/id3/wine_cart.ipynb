{
 "cells": [
  {
   "cell_type": "code",
   "execution_count": 15,
   "metadata": {
    "collapsed": true
   },
   "outputs": [],
   "source": [
    "from sklearn.datasets import load_wine\n",
    "from sklearn.metrics import accuracy_score\n",
    "from sklearn.model_selection import train_test_split\n",
    "import pandas as pd\n",
    "import numpy as np\n",
    "from sklearn.tree import DecisionTreeClassifier"
   ]
  },
  {
   "cell_type": "code",
   "execution_count": 16,
   "metadata": {
    "pycharm": {
     "name": "#%%\n"
    }
   },
   "outputs": [
    {
     "data": {
      "text/plain": "array([[1.423e+01, 1.710e+00, 2.430e+00, ..., 1.040e+00, 3.920e+00,\n        1.065e+03],\n       [1.320e+01, 1.780e+00, 2.140e+00, ..., 1.050e+00, 3.400e+00,\n        1.050e+03],\n       [1.316e+01, 2.360e+00, 2.670e+00, ..., 1.030e+00, 3.170e+00,\n        1.185e+03],\n       ...,\n       [1.327e+01, 4.280e+00, 2.260e+00, ..., 5.900e-01, 1.560e+00,\n        8.350e+02],\n       [1.317e+01, 2.590e+00, 2.370e+00, ..., 6.000e-01, 1.620e+00,\n        8.400e+02],\n       [1.413e+01, 4.100e+00, 2.740e+00, ..., 6.100e-01, 1.600e+00,\n        5.600e+02]])"
     },
     "execution_count": 16,
     "metadata": {},
     "output_type": "execute_result"
    }
   ],
   "source": [
    "wine = load_wine()\n",
    "wine # 字典的格式\n",
    "wine.data"
   ]
  },
  {
   "cell_type": "code",
   "execution_count": 17,
   "metadata": {
    "pycharm": {
     "name": "#%%\n"
    }
   },
   "outputs": [
    {
     "data": {
      "text/plain": "array([0, 0, 0, 0, 0, 0, 0, 0, 0, 0, 0, 0, 0, 0, 0, 0, 0, 0, 0, 0, 0, 0,\n       0, 0, 0, 0, 0, 0, 0, 0, 0, 0, 0, 0, 0, 0, 0, 0, 0, 0, 0, 0, 0, 0,\n       0, 0, 0, 0, 0, 0, 0, 0, 0, 0, 0, 0, 0, 0, 0, 1, 1, 1, 1, 1, 1, 1,\n       1, 1, 1, 1, 1, 1, 1, 1, 1, 1, 1, 1, 1, 1, 1, 1, 1, 1, 1, 1, 1, 1,\n       1, 1, 1, 1, 1, 1, 1, 1, 1, 1, 1, 1, 1, 1, 1, 1, 1, 1, 1, 1, 1, 1,\n       1, 1, 1, 1, 1, 1, 1, 1, 1, 1, 1, 1, 1, 1, 1, 1, 1, 1, 1, 1, 2, 2,\n       2, 2, 2, 2, 2, 2, 2, 2, 2, 2, 2, 2, 2, 2, 2, 2, 2, 2, 2, 2, 2, 2,\n       2, 2, 2, 2, 2, 2, 2, 2, 2, 2, 2, 2, 2, 2, 2, 2, 2, 2, 2, 2, 2, 2,\n       2, 2])"
     },
     "execution_count": 17,
     "metadata": {},
     "output_type": "execute_result"
    }
   ],
   "source": [
    "wine.target"
   ]
  },
  {
   "cell_type": "code",
   "execution_count": 18,
   "metadata": {
    "pycharm": {
     "name": "#%%\n"
    }
   },
   "outputs": [
    {
     "data": {
      "text/plain": "(178, 13)"
     },
     "execution_count": 18,
     "metadata": {},
     "output_type": "execute_result"
    }
   ],
   "source": [
    "wine.data.shape"
   ]
  },
  {
   "cell_type": "code",
   "execution_count": 19,
   "metadata": {
    "pycharm": {
     "name": "#%%\n"
    }
   },
   "outputs": [
    {
     "data": {
      "text/plain": "        0     1     2     3      4     5     6     7     8      9     10  \\\n0    14.23  1.71  2.43  15.6  127.0  2.80  3.06  0.28  2.29   5.64  1.04   \n1    13.20  1.78  2.14  11.2  100.0  2.65  2.76  0.26  1.28   4.38  1.05   \n2    13.16  2.36  2.67  18.6  101.0  2.80  3.24  0.30  2.81   5.68  1.03   \n3    14.37  1.95  2.50  16.8  113.0  3.85  3.49  0.24  2.18   7.80  0.86   \n4    13.24  2.59  2.87  21.0  118.0  2.80  2.69  0.39  1.82   4.32  1.04   \n..     ...   ...   ...   ...    ...   ...   ...   ...   ...    ...   ...   \n173  13.71  5.65  2.45  20.5   95.0  1.68  0.61  0.52  1.06   7.70  0.64   \n174  13.40  3.91  2.48  23.0  102.0  1.80  0.75  0.43  1.41   7.30  0.70   \n175  13.27  4.28  2.26  20.0  120.0  1.59  0.69  0.43  1.35  10.20  0.59   \n176  13.17  2.59  2.37  20.0  120.0  1.65  0.68  0.53  1.46   9.30  0.60   \n177  14.13  4.10  2.74  24.5   96.0  2.05  0.76  0.56  1.35   9.20  0.61   \n\n       11      12  0   \n0    3.92  1065.0   0  \n1    3.40  1050.0   0  \n2    3.17  1185.0   0  \n3    3.45  1480.0   0  \n4    2.93   735.0   0  \n..    ...     ...  ..  \n173  1.74   740.0   2  \n174  1.56   750.0   2  \n175  1.56   835.0   2  \n176  1.62   840.0   2  \n177  1.60   560.0   2  \n\n[178 rows x 14 columns]",
      "text/html": "<div>\n<style scoped>\n    .dataframe tbody tr th:only-of-type {\n        vertical-align: middle;\n    }\n\n    .dataframe tbody tr th {\n        vertical-align: top;\n    }\n\n    .dataframe thead th {\n        text-align: right;\n    }\n</style>\n<table border=\"1\" class=\"dataframe\">\n  <thead>\n    <tr style=\"text-align: right;\">\n      <th></th>\n      <th>0</th>\n      <th>1</th>\n      <th>2</th>\n      <th>3</th>\n      <th>4</th>\n      <th>5</th>\n      <th>6</th>\n      <th>7</th>\n      <th>8</th>\n      <th>9</th>\n      <th>10</th>\n      <th>11</th>\n      <th>12</th>\n      <th>0</th>\n    </tr>\n  </thead>\n  <tbody>\n    <tr>\n      <th>0</th>\n      <td>14.23</td>\n      <td>1.71</td>\n      <td>2.43</td>\n      <td>15.6</td>\n      <td>127.0</td>\n      <td>2.80</td>\n      <td>3.06</td>\n      <td>0.28</td>\n      <td>2.29</td>\n      <td>5.64</td>\n      <td>1.04</td>\n      <td>3.92</td>\n      <td>1065.0</td>\n      <td>0</td>\n    </tr>\n    <tr>\n      <th>1</th>\n      <td>13.20</td>\n      <td>1.78</td>\n      <td>2.14</td>\n      <td>11.2</td>\n      <td>100.0</td>\n      <td>2.65</td>\n      <td>2.76</td>\n      <td>0.26</td>\n      <td>1.28</td>\n      <td>4.38</td>\n      <td>1.05</td>\n      <td>3.40</td>\n      <td>1050.0</td>\n      <td>0</td>\n    </tr>\n    <tr>\n      <th>2</th>\n      <td>13.16</td>\n      <td>2.36</td>\n      <td>2.67</td>\n      <td>18.6</td>\n      <td>101.0</td>\n      <td>2.80</td>\n      <td>3.24</td>\n      <td>0.30</td>\n      <td>2.81</td>\n      <td>5.68</td>\n      <td>1.03</td>\n      <td>3.17</td>\n      <td>1185.0</td>\n      <td>0</td>\n    </tr>\n    <tr>\n      <th>3</th>\n      <td>14.37</td>\n      <td>1.95</td>\n      <td>2.50</td>\n      <td>16.8</td>\n      <td>113.0</td>\n      <td>3.85</td>\n      <td>3.49</td>\n      <td>0.24</td>\n      <td>2.18</td>\n      <td>7.80</td>\n      <td>0.86</td>\n      <td>3.45</td>\n      <td>1480.0</td>\n      <td>0</td>\n    </tr>\n    <tr>\n      <th>4</th>\n      <td>13.24</td>\n      <td>2.59</td>\n      <td>2.87</td>\n      <td>21.0</td>\n      <td>118.0</td>\n      <td>2.80</td>\n      <td>2.69</td>\n      <td>0.39</td>\n      <td>1.82</td>\n      <td>4.32</td>\n      <td>1.04</td>\n      <td>2.93</td>\n      <td>735.0</td>\n      <td>0</td>\n    </tr>\n    <tr>\n      <th>...</th>\n      <td>...</td>\n      <td>...</td>\n      <td>...</td>\n      <td>...</td>\n      <td>...</td>\n      <td>...</td>\n      <td>...</td>\n      <td>...</td>\n      <td>...</td>\n      <td>...</td>\n      <td>...</td>\n      <td>...</td>\n      <td>...</td>\n      <td>...</td>\n    </tr>\n    <tr>\n      <th>173</th>\n      <td>13.71</td>\n      <td>5.65</td>\n      <td>2.45</td>\n      <td>20.5</td>\n      <td>95.0</td>\n      <td>1.68</td>\n      <td>0.61</td>\n      <td>0.52</td>\n      <td>1.06</td>\n      <td>7.70</td>\n      <td>0.64</td>\n      <td>1.74</td>\n      <td>740.0</td>\n      <td>2</td>\n    </tr>\n    <tr>\n      <th>174</th>\n      <td>13.40</td>\n      <td>3.91</td>\n      <td>2.48</td>\n      <td>23.0</td>\n      <td>102.0</td>\n      <td>1.80</td>\n      <td>0.75</td>\n      <td>0.43</td>\n      <td>1.41</td>\n      <td>7.30</td>\n      <td>0.70</td>\n      <td>1.56</td>\n      <td>750.0</td>\n      <td>2</td>\n    </tr>\n    <tr>\n      <th>175</th>\n      <td>13.27</td>\n      <td>4.28</td>\n      <td>2.26</td>\n      <td>20.0</td>\n      <td>120.0</td>\n      <td>1.59</td>\n      <td>0.69</td>\n      <td>0.43</td>\n      <td>1.35</td>\n      <td>10.20</td>\n      <td>0.59</td>\n      <td>1.56</td>\n      <td>835.0</td>\n      <td>2</td>\n    </tr>\n    <tr>\n      <th>176</th>\n      <td>13.17</td>\n      <td>2.59</td>\n      <td>2.37</td>\n      <td>20.0</td>\n      <td>120.0</td>\n      <td>1.65</td>\n      <td>0.68</td>\n      <td>0.53</td>\n      <td>1.46</td>\n      <td>9.30</td>\n      <td>0.60</td>\n      <td>1.62</td>\n      <td>840.0</td>\n      <td>2</td>\n    </tr>\n    <tr>\n      <th>177</th>\n      <td>14.13</td>\n      <td>4.10</td>\n      <td>2.74</td>\n      <td>24.5</td>\n      <td>96.0</td>\n      <td>2.05</td>\n      <td>0.76</td>\n      <td>0.56</td>\n      <td>1.35</td>\n      <td>9.20</td>\n      <td>0.61</td>\n      <td>1.60</td>\n      <td>560.0</td>\n      <td>2</td>\n    </tr>\n  </tbody>\n</table>\n<p>178 rows × 14 columns</p>\n</div>"
     },
     "execution_count": 19,
     "metadata": {},
     "output_type": "execute_result"
    }
   ],
   "source": [
    "pd.concat([pd.DataFrame(wine.data),pd.DataFrame(wine.target)],axis=1)"
   ]
  },
  {
   "cell_type": "code",
   "execution_count": 20,
   "metadata": {
    "pycharm": {
     "name": "#%%\n"
    }
   },
   "outputs": [
    {
     "data": {
      "text/plain": "['alcohol',\n 'malic_acid',\n 'ash',\n 'alcalinity_of_ash',\n 'magnesium',\n 'total_phenols',\n 'flavanoids',\n 'nonflavanoid_phenols',\n 'proanthocyanins',\n 'color_intensity',\n 'hue',\n 'od280/od315_of_diluted_wines',\n 'proline']"
     },
     "execution_count": 20,
     "metadata": {},
     "output_type": "execute_result"
    }
   ],
   "source": [
    "wine.feature_names"
   ]
  },
  {
   "cell_type": "code",
   "execution_count": 21,
   "metadata": {
    "pycharm": {
     "name": "#%%\n"
    }
   },
   "outputs": [
    {
     "data": {
      "text/plain": "array(['class_0', 'class_1', 'class_2'], dtype='<U7')"
     },
     "execution_count": 21,
     "metadata": {},
     "output_type": "execute_result"
    }
   ],
   "source": [
    "wine.target_names"
   ]
  },
  {
   "cell_type": "code",
   "execution_count": 22,
   "metadata": {
    "pycharm": {
     "name": "#%%\n"
    }
   },
   "outputs": [],
   "source": [
    "X_train, X_test, y_train, y_test = train_test_split(wine.data, wine.target, test_size=0.3)"
   ]
  },
  {
   "cell_type": "code",
   "execution_count": 23,
   "metadata": {
    "pycharm": {
     "name": "#%%\n"
    }
   },
   "outputs": [
    {
     "data": {
      "text/plain": "(124, 13)"
     },
     "execution_count": 23,
     "metadata": {},
     "output_type": "execute_result"
    }
   ],
   "source": [
    "X_train.shape"
   ]
  },
  {
   "cell_type": "code",
   "execution_count": 24,
   "metadata": {
    "pycharm": {
     "name": "#%%\n"
    }
   },
   "outputs": [],
   "source": [
    "clf = DecisionTreeClassifier(criterion=\"entropy\")\n"
   ]
  },
  {
   "cell_type": "code",
   "execution_count": 25,
   "metadata": {
    "pycharm": {
     "name": "#%%\n"
    }
   },
   "outputs": [
    {
     "data": {
      "text/plain": "0.9444444444444444"
     },
     "execution_count": 25,
     "metadata": {},
     "output_type": "execute_result"
    }
   ],
   "source": [
    "clf = clf.fit(X_train,y_train)\n",
    "score = clf.score(X_test, y_test)\n",
    "score\n"
   ]
  },
  {
   "cell_type": "code",
   "execution_count": 30,
   "metadata": {
    "pycharm": {
     "name": "#%%\n"
    }
   },
   "outputs": [
    {
     "data": {
      "text/plain": "<graphviz.files.Source at 0x1f99c1b0e08>",
      "image/svg+xml": "<?xml version=\"1.0\" encoding=\"UTF-8\" standalone=\"no\"?>\r\n<!DOCTYPE svg PUBLIC \"-//W3C//DTD SVG 1.1//EN\"\r\n \"http://www.w3.org/Graphics/SVG/1.1/DTD/svg11.dtd\">\r\n<!-- Generated by graphviz version 2.38.0 (20140413.2041)\r\n -->\r\n<!-- Title: Tree Pages: 1 -->\r\n<svg width=\"646pt\" height=\"433pt\"\r\n viewBox=\"0.00 0.00 646.00 433.00\" xmlns=\"http://www.w3.org/2000/svg\" xmlns:xlink=\"http://www.w3.org/1999/xlink\">\r\n<g id=\"graph0\" class=\"graph\" transform=\"scale(1 1) rotate(0) translate(4 429)\">\r\n<title>Tree</title>\r\n<polygon fill=\"white\" stroke=\"none\" points=\"-4,4 -4,-429 642,-429 642,4 -4,4\"/>\r\n<!-- 0 -->\r\n<g id=\"node1\" class=\"node\"><title>0</title>\r\n<path fill=\"#39e581\" fill-opacity=\"0.062745\" stroke=\"black\" d=\"M328,-425C328,-425 211,-425 211,-425 205,-425 199,-419 199,-413 199,-413 199,-354 199,-354 199,-348 205,-342 211,-342 211,-342 328,-342 328,-342 334,-342 340,-348 340,-354 340,-354 340,-413 340,-413 340,-419 334,-425 328,-425\"/>\r\n<text text-anchor=\"middle\" x=\"269.5\" y=\"-409.8\" font-family=\"Helvetica,sans-Serif\" font-size=\"14.00\">flavanoids &lt;= 1.425</text>\r\n<text text-anchor=\"middle\" x=\"269.5\" y=\"-394.8\" font-family=\"Helvetica,sans-Serif\" font-size=\"14.00\">entropy = 1.568</text>\r\n<text text-anchor=\"middle\" x=\"269.5\" y=\"-379.8\" font-family=\"Helvetica,sans-Serif\" font-size=\"14.00\">samples = 124</text>\r\n<text text-anchor=\"middle\" x=\"269.5\" y=\"-364.8\" font-family=\"Helvetica,sans-Serif\" font-size=\"14.00\">value = [43, 48, 33]</text>\r\n<text text-anchor=\"middle\" x=\"269.5\" y=\"-349.8\" font-family=\"Helvetica,sans-Serif\" font-size=\"14.00\">class = class_1</text>\r\n</g>\r\n<!-- 1 -->\r\n<g id=\"node2\" class=\"node\"><title>1</title>\r\n<path fill=\"#8139e5\" fill-opacity=\"0.756863\" stroke=\"black\" d=\"M258.5,-306C258.5,-306 114.5,-306 114.5,-306 108.5,-306 102.5,-300 102.5,-294 102.5,-294 102.5,-235 102.5,-235 102.5,-229 108.5,-223 114.5,-223 114.5,-223 258.5,-223 258.5,-223 264.5,-223 270.5,-229 270.5,-235 270.5,-235 270.5,-294 270.5,-294 270.5,-300 264.5,-306 258.5,-306\"/>\r\n<text text-anchor=\"middle\" x=\"186.5\" y=\"-290.8\" font-family=\"Helvetica,sans-Serif\" font-size=\"14.00\">color_intensity &lt;= 3.725</text>\r\n<text text-anchor=\"middle\" x=\"186.5\" y=\"-275.8\" font-family=\"Helvetica,sans-Serif\" font-size=\"14.00\">entropy = 0.712</text>\r\n<text text-anchor=\"middle\" x=\"186.5\" y=\"-260.8\" font-family=\"Helvetica,sans-Serif\" font-size=\"14.00\">samples = 41</text>\r\n<text text-anchor=\"middle\" x=\"186.5\" y=\"-245.8\" font-family=\"Helvetica,sans-Serif\" font-size=\"14.00\">value = [0, 8, 33]</text>\r\n<text text-anchor=\"middle\" x=\"186.5\" y=\"-230.8\" font-family=\"Helvetica,sans-Serif\" font-size=\"14.00\">class = class_2</text>\r\n</g>\r\n<!-- 0&#45;&gt;1 -->\r\n<g id=\"edge1\" class=\"edge\"><title>0&#45;&gt;1</title>\r\n<path fill=\"none\" stroke=\"black\" d=\"M240.704,-341.907C234.394,-333.014 227.652,-323.509 221.141,-314.331\"/>\r\n<polygon fill=\"black\" stroke=\"black\" points=\"223.886,-312.152 215.246,-306.021 218.177,-316.202 223.886,-312.152\"/>\r\n<text text-anchor=\"middle\" x=\"211.056\" y=\"-326.967\" font-family=\"Helvetica,sans-Serif\" font-size=\"14.00\">True</text>\r\n</g>\r\n<!-- 4 -->\r\n<g id=\"node5\" class=\"node\"><title>4</title>\r\n<path fill=\"#e58139\" fill-opacity=\"0.070588\" stroke=\"black\" d=\"M406,-306C406,-306 301,-306 301,-306 295,-306 289,-300 289,-294 289,-294 289,-235 289,-235 289,-229 295,-223 301,-223 301,-223 406,-223 406,-223 412,-223 418,-229 418,-235 418,-235 418,-294 418,-294 418,-300 412,-306 406,-306\"/>\r\n<text text-anchor=\"middle\" x=\"353.5\" y=\"-290.8\" font-family=\"Helvetica,sans-Serif\" font-size=\"14.00\">proline &lt;= 724.5</text>\r\n<text text-anchor=\"middle\" x=\"353.5\" y=\"-275.8\" font-family=\"Helvetica,sans-Serif\" font-size=\"14.00\">entropy = 0.999</text>\r\n<text text-anchor=\"middle\" x=\"353.5\" y=\"-260.8\" font-family=\"Helvetica,sans-Serif\" font-size=\"14.00\">samples = 83</text>\r\n<text text-anchor=\"middle\" x=\"353.5\" y=\"-245.8\" font-family=\"Helvetica,sans-Serif\" font-size=\"14.00\">value = [43, 40, 0]</text>\r\n<text text-anchor=\"middle\" x=\"353.5\" y=\"-230.8\" font-family=\"Helvetica,sans-Serif\" font-size=\"14.00\">class = class_0</text>\r\n</g>\r\n<!-- 0&#45;&gt;4 -->\r\n<g id=\"edge4\" class=\"edge\"><title>0&#45;&gt;4</title>\r\n<path fill=\"none\" stroke=\"black\" d=\"M298.643,-341.907C305.029,-333.014 311.852,-323.509 318.442,-314.331\"/>\r\n<polygon fill=\"black\" stroke=\"black\" points=\"321.419,-316.185 324.408,-306.021 315.733,-312.103 321.419,-316.185\"/>\r\n<text text-anchor=\"middle\" x=\"328.458\" y=\"-326.991\" font-family=\"Helvetica,sans-Serif\" font-size=\"14.00\">False</text>\r\n</g>\r\n<!-- 2 -->\r\n<g id=\"node3\" class=\"node\"><title>2</title>\r\n<path fill=\"#39e581\" stroke=\"black\" d=\"M103,-179.5C103,-179.5 12,-179.5 12,-179.5 6,-179.5 0,-173.5 0,-167.5 0,-167.5 0,-123.5 0,-123.5 0,-117.5 6,-111.5 12,-111.5 12,-111.5 103,-111.5 103,-111.5 109,-111.5 115,-117.5 115,-123.5 115,-123.5 115,-167.5 115,-167.5 115,-173.5 109,-179.5 103,-179.5\"/>\r\n<text text-anchor=\"middle\" x=\"57.5\" y=\"-164.3\" font-family=\"Helvetica,sans-Serif\" font-size=\"14.00\">entropy = 0.0</text>\r\n<text text-anchor=\"middle\" x=\"57.5\" y=\"-149.3\" font-family=\"Helvetica,sans-Serif\" font-size=\"14.00\">samples = 8</text>\r\n<text text-anchor=\"middle\" x=\"57.5\" y=\"-134.3\" font-family=\"Helvetica,sans-Serif\" font-size=\"14.00\">value = [0, 8, 0]</text>\r\n<text text-anchor=\"middle\" x=\"57.5\" y=\"-119.3\" font-family=\"Helvetica,sans-Serif\" font-size=\"14.00\">class = class_1</text>\r\n</g>\r\n<!-- 1&#45;&gt;2 -->\r\n<g id=\"edge2\" class=\"edge\"><title>1&#45;&gt;2</title>\r\n<path fill=\"none\" stroke=\"black\" d=\"M141.744,-222.907C128.726,-211.101 114.521,-198.217 101.547,-186.45\"/>\r\n<polygon fill=\"black\" stroke=\"black\" points=\"103.827,-183.793 94.0687,-179.667 99.1245,-188.978 103.827,-183.793\"/>\r\n</g>\r\n<!-- 3 -->\r\n<g id=\"node4\" class=\"node\"><title>3</title>\r\n<path fill=\"#8139e5\" stroke=\"black\" d=\"M242,-179.5C242,-179.5 145,-179.5 145,-179.5 139,-179.5 133,-173.5 133,-167.5 133,-167.5 133,-123.5 133,-123.5 133,-117.5 139,-111.5 145,-111.5 145,-111.5 242,-111.5 242,-111.5 248,-111.5 254,-117.5 254,-123.5 254,-123.5 254,-167.5 254,-167.5 254,-173.5 248,-179.5 242,-179.5\"/>\r\n<text text-anchor=\"middle\" x=\"193.5\" y=\"-164.3\" font-family=\"Helvetica,sans-Serif\" font-size=\"14.00\">entropy = 0.0</text>\r\n<text text-anchor=\"middle\" x=\"193.5\" y=\"-149.3\" font-family=\"Helvetica,sans-Serif\" font-size=\"14.00\">samples = 33</text>\r\n<text text-anchor=\"middle\" x=\"193.5\" y=\"-134.3\" font-family=\"Helvetica,sans-Serif\" font-size=\"14.00\">value = [0, 0, 33]</text>\r\n<text text-anchor=\"middle\" x=\"193.5\" y=\"-119.3\" font-family=\"Helvetica,sans-Serif\" font-size=\"14.00\">class = class_2</text>\r\n</g>\r\n<!-- 1&#45;&gt;3 -->\r\n<g id=\"edge3\" class=\"edge\"><title>1&#45;&gt;3</title>\r\n<path fill=\"none\" stroke=\"black\" d=\"M188.929,-222.907C189.569,-212.204 190.262,-200.615 190.911,-189.776\"/>\r\n<polygon fill=\"black\" stroke=\"black\" points=\"194.412,-189.858 191.516,-179.667 187.425,-189.44 194.412,-189.858\"/>\r\n</g>\r\n<!-- 5 -->\r\n<g id=\"node6\" class=\"node\"><title>5</title>\r\n<path fill=\"#39e581\" stroke=\"black\" d=\"M395,-179.5C395,-179.5 298,-179.5 298,-179.5 292,-179.5 286,-173.5 286,-167.5 286,-167.5 286,-123.5 286,-123.5 286,-117.5 292,-111.5 298,-111.5 298,-111.5 395,-111.5 395,-111.5 401,-111.5 407,-117.5 407,-123.5 407,-123.5 407,-167.5 407,-167.5 407,-173.5 401,-179.5 395,-179.5\"/>\r\n<text text-anchor=\"middle\" x=\"346.5\" y=\"-164.3\" font-family=\"Helvetica,sans-Serif\" font-size=\"14.00\">entropy = 0.0</text>\r\n<text text-anchor=\"middle\" x=\"346.5\" y=\"-149.3\" font-family=\"Helvetica,sans-Serif\" font-size=\"14.00\">samples = 38</text>\r\n<text text-anchor=\"middle\" x=\"346.5\" y=\"-134.3\" font-family=\"Helvetica,sans-Serif\" font-size=\"14.00\">value = [0, 38, 0]</text>\r\n<text text-anchor=\"middle\" x=\"346.5\" y=\"-119.3\" font-family=\"Helvetica,sans-Serif\" font-size=\"14.00\">class = class_1</text>\r\n</g>\r\n<!-- 4&#45;&gt;5 -->\r\n<g id=\"edge5\" class=\"edge\"><title>4&#45;&gt;5</title>\r\n<path fill=\"none\" stroke=\"black\" d=\"M351.071,-222.907C350.431,-212.204 349.738,-200.615 349.089,-189.776\"/>\r\n<polygon fill=\"black\" stroke=\"black\" points=\"352.575,-189.44 348.484,-179.667 345.588,-189.858 352.575,-189.44\"/>\r\n</g>\r\n<!-- 6 -->\r\n<g id=\"node7\" class=\"node\"><title>6</title>\r\n<path fill=\"#e58139\" fill-opacity=\"0.952941\" stroke=\"black\" d=\"M581.5,-187C581.5,-187 437.5,-187 437.5,-187 431.5,-187 425.5,-181 425.5,-175 425.5,-175 425.5,-116 425.5,-116 425.5,-110 431.5,-104 437.5,-104 437.5,-104 581.5,-104 581.5,-104 587.5,-104 593.5,-110 593.5,-116 593.5,-116 593.5,-175 593.5,-175 593.5,-181 587.5,-187 581.5,-187\"/>\r\n<text text-anchor=\"middle\" x=\"509.5\" y=\"-171.8\" font-family=\"Helvetica,sans-Serif\" font-size=\"14.00\">color_intensity &lt;= 3.435</text>\r\n<text text-anchor=\"middle\" x=\"509.5\" y=\"-156.8\" font-family=\"Helvetica,sans-Serif\" font-size=\"14.00\">entropy = 0.262</text>\r\n<text text-anchor=\"middle\" x=\"509.5\" y=\"-141.8\" font-family=\"Helvetica,sans-Serif\" font-size=\"14.00\">samples = 45</text>\r\n<text text-anchor=\"middle\" x=\"509.5\" y=\"-126.8\" font-family=\"Helvetica,sans-Serif\" font-size=\"14.00\">value = [43, 2, 0]</text>\r\n<text text-anchor=\"middle\" x=\"509.5\" y=\"-111.8\" font-family=\"Helvetica,sans-Serif\" font-size=\"14.00\">class = class_0</text>\r\n</g>\r\n<!-- 4&#45;&gt;6 -->\r\n<g id=\"edge6\" class=\"edge\"><title>4&#45;&gt;6</title>\r\n<path fill=\"none\" stroke=\"black\" d=\"M407.623,-222.907C420.45,-213.288 434.229,-202.953 447.38,-193.09\"/>\r\n<polygon fill=\"black\" stroke=\"black\" points=\"449.572,-195.821 455.472,-187.021 445.372,-190.221 449.572,-195.821\"/>\r\n</g>\r\n<!-- 7 -->\r\n<g id=\"node8\" class=\"node\"><title>7</title>\r\n<path fill=\"#39e581\" stroke=\"black\" d=\"M487,-68C487,-68 396,-68 396,-68 390,-68 384,-62 384,-56 384,-56 384,-12 384,-12 384,-6 390,-0 396,-0 396,-0 487,-0 487,-0 493,-0 499,-6 499,-12 499,-12 499,-56 499,-56 499,-62 493,-68 487,-68\"/>\r\n<text text-anchor=\"middle\" x=\"441.5\" y=\"-52.8\" font-family=\"Helvetica,sans-Serif\" font-size=\"14.00\">entropy = 0.0</text>\r\n<text text-anchor=\"middle\" x=\"441.5\" y=\"-37.8\" font-family=\"Helvetica,sans-Serif\" font-size=\"14.00\">samples = 2</text>\r\n<text text-anchor=\"middle\" x=\"441.5\" y=\"-22.8\" font-family=\"Helvetica,sans-Serif\" font-size=\"14.00\">value = [0, 2, 0]</text>\r\n<text text-anchor=\"middle\" x=\"441.5\" y=\"-7.8\" font-family=\"Helvetica,sans-Serif\" font-size=\"14.00\">class = class_1</text>\r\n</g>\r\n<!-- 6&#45;&gt;7 -->\r\n<g id=\"edge7\" class=\"edge\"><title>6&#45;&gt;7</title>\r\n<path fill=\"none\" stroke=\"black\" d=\"M484.179,-103.726C478.742,-94.9703 472.987,-85.7032 467.523,-76.9051\"/>\r\n<polygon fill=\"black\" stroke=\"black\" points=\"470.428,-74.9484 462.179,-68.2996 464.481,-78.6413 470.428,-74.9484\"/>\r\n</g>\r\n<!-- 8 -->\r\n<g id=\"node9\" class=\"node\"><title>8</title>\r\n<path fill=\"#e58139\" stroke=\"black\" d=\"M626,-68C626,-68 529,-68 529,-68 523,-68 517,-62 517,-56 517,-56 517,-12 517,-12 517,-6 523,-0 529,-0 529,-0 626,-0 626,-0 632,-0 638,-6 638,-12 638,-12 638,-56 638,-56 638,-62 632,-68 626,-68\"/>\r\n<text text-anchor=\"middle\" x=\"577.5\" y=\"-52.8\" font-family=\"Helvetica,sans-Serif\" font-size=\"14.00\">entropy = 0.0</text>\r\n<text text-anchor=\"middle\" x=\"577.5\" y=\"-37.8\" font-family=\"Helvetica,sans-Serif\" font-size=\"14.00\">samples = 43</text>\r\n<text text-anchor=\"middle\" x=\"577.5\" y=\"-22.8\" font-family=\"Helvetica,sans-Serif\" font-size=\"14.00\">value = [43, 0, 0]</text>\r\n<text text-anchor=\"middle\" x=\"577.5\" y=\"-7.8\" font-family=\"Helvetica,sans-Serif\" font-size=\"14.00\">class = class_0</text>\r\n</g>\r\n<!-- 6&#45;&gt;8 -->\r\n<g id=\"edge8\" class=\"edge\"><title>6&#45;&gt;8</title>\r\n<path fill=\"none\" stroke=\"black\" d=\"M534.821,-103.726C540.258,-94.9703 546.013,-85.7032 551.477,-76.9051\"/>\r\n<polygon fill=\"black\" stroke=\"black\" points=\"554.519,-78.6413 556.821,-68.2996 548.572,-74.9484 554.519,-78.6413\"/>\r\n</g>\r\n</g>\r\n</svg>\r\n"
     },
     "execution_count": 30,
     "metadata": {},
     "output_type": "execute_result"
    }
   ],
   "source": [
    "import graphviz\n",
    "from sklearn import tree\n",
    "dot_data = tree.export_graphviz(clf,\n",
    "                                feature_names=wine.feature_names,\n",
    "                                class_names=wine.target_names,\n",
    "                                filled=True,\n",
    "                                rounded=True)\n",
    "graph = graphviz.Source(dot_data)\n",
    "graph.save('wine_id3.png','./')\n",
    "graph"
   ]
  },
  {
   "cell_type": "code",
   "execution_count": 26,
   "metadata": {
    "pycharm": {
     "name": "#%%\n"
    }
   },
   "outputs": [],
   "source": []
  },
  {
   "cell_type": "code",
   "execution_count": 27,
   "metadata": {
    "pycharm": {
     "name": "#%%\n"
    }
   },
   "outputs": [
    {
     "data": {
      "text/plain": "array([0.        , 0.        , 0.        , 0.        , 0.        ,\n       0.        , 0.42341123, 0.        , 0.        , 0.21084652,\n       0.        , 0.        , 0.36574226])"
     },
     "execution_count": 27,
     "metadata": {},
     "output_type": "execute_result"
    }
   ],
   "source": [
    "clf.feature_importances_"
   ]
  },
  {
   "cell_type": "code",
   "execution_count": 28,
   "metadata": {
    "pycharm": {
     "name": "#%%\n"
    }
   },
   "outputs": [
    {
     "data": {
      "text/plain": "[('alcohol', 0.0),\n ('malic_acid', 0.0),\n ('ash', 0.0),\n ('alcalinity_of_ash', 0.0),\n ('magnesium', 0.0),\n ('total_phenols', 0.0),\n ('flavanoids', 0.42341122684370647),\n ('nonflavanoid_phenols', 0.0),\n ('proanthocyanins', 0.0),\n ('color_intensity', 0.21084651634344373),\n ('hue', 0.0),\n ('od280/od315_of_diluted_wines', 0.0),\n ('proline', 0.3657422568128498)]"
     },
     "execution_count": 28,
     "metadata": {},
     "output_type": "execute_result"
    }
   ],
   "source": [
    "[*zip(wine.feature_names,clf.feature_importances_)] # *zip解压\n"
   ]
  }
 ],
 "metadata": {
  "jupytext": {
   "formats": "ipynb,py:light"
  },
  "kernelspec": {
   "display_name": "PyCharm (code-ml)",
   "language": "python",
   "name": "pycharm-88a21ce0"
  },
  "language_info": {
   "codemirror_mode": {
    "name": "ipython",
    "version": 3
   },
   "file_extension": ".py",
   "mimetype": "text/x-python",
   "name": "python",
   "nbconvert_exporter": "python",
   "pygments_lexer": "ipython3",
   "version": "3.7.7"
  }
 },
 "nbformat": 4,
 "nbformat_minor": 1
}